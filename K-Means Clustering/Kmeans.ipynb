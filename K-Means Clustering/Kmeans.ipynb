{
 "cells": [
  {
   "cell_type": "code",
   "execution_count": 1,
   "metadata": {
    "collapsed": true
   },
   "outputs": [],
   "source": [
    "%matplotlib inline\n",
    "import numpy as np\n",
    "import matplotlib.pyplot as plt\n",
    "from sklearn.model_selection import train_test_split"
   ]
  },
  {
   "cell_type": "code",
   "execution_count": 2,
   "metadata": {},
   "outputs": [
    {
     "data": {
      "image/png": "[encoded data removed]",
      "text/plain": [
       "<matplotlib.figure.Figure at 0x7f83e3466e48>"
      ]
     },
     "metadata": {},
     "output_type": "display_data"
    }
   ],
   "source": [
    "def createDataset(k, means, std, size=500):\n",
    "    data = np.empty( (0,3) )\n",
    "    for cluster in range(k):\n",
    "        pts = np.random.normal(means[cluster], std[cluster], size=(size//k,2))\n",
    "        pts = np.c_[pts, np.ones(size//k)*cluster ]\n",
    "        data = np.append( data, pts, axis=0)\n",
    "    np.random.shuffle(data)\n",
    "    return data\n",
    "data = createDataset( 4, [ (3,2), (8,8), (2,9), (9,4) ], [ 1.5, 1.1, 1, 1.4] )\n",
    "for k in range(4):\n",
    "    temp = data[:,0:2][data[:,2]==k]\n",
    "    plt.scatter( temp[:,0], temp[:,1],  )"
   ]
  },
  {
   "cell_type": "code",
   "execution_count": 3,
   "metadata": {},
   "outputs": [
    {
     "data": {
      "text/plain": [
       "((400, 2), (100, 2), (400,), (100,))"
      ]
     },
     "execution_count": 3,
     "metadata": {},
     "output_type": "execute_result"
    }
   ],
   "source": [
    "X_train, X_test, Y_train, Y_test = train_test_split( data[:,0:2],data[:,2],test_size=0.2, stratify=data[:,2] )\n",
    "X_train.shape, X_test.shape, Y_train.shape, Y_test.shape"
   ]
  },
  {
   "cell_type": "code",
   "execution_count": 4,
   "metadata": {},
   "outputs": [
    {
     "data": {
      "image/png": "[encoded data removed]",
      "text/plain": [
       "<matplotlib.figure.Figure at 0x7f84146b4b38>"
      ]
     },
     "metadata": {},
     "output_type": "display_data"
    }
   ],
   "source": [
    "#our test data\n",
    "for k in range(4):\n",
    "    temp = X_test[Y_test==k]\n",
    "    plt.scatter( temp[:,0], temp[:,1],  )"
   ]
  },
  {
   "cell_type": "markdown",
   "metadata": {},
   "source": [
    "#### Euclidean Distance\n",
    "\n",
    "$ d = \\sqrt{ \\sum_{i=0}^{k} \\big(X_i - Y_i \\big)^2 } $"
   ]
  },
  {
   "cell_type": "code",
   "execution_count": 5,
   "metadata": {
    "collapsed": true
   },
   "outputs": [],
   "source": [
    "def distance( X1,X2 ):\n",
    "    return np.sqrt( np.sum( (X1-X2)**2, axis=1) )"
   ]
  },
  {
   "cell_type": "code",
   "execution_count": 6,
   "metadata": {},
   "outputs": [],
   "source": [
    "def areCentersChanged(new,old):\n",
    "    \"check if centers are changed\"\n",
    "    for n,o in zip(new,old):\n",
    "        if n!=o: return True\n",
    "    return False\n",
    "\n",
    "def getNewMeans( k, data, initial_centers ):\n",
    "    newCluster = np.empty((len(data),0))\n",
    "    #find distance from each cluster mean\n",
    "    for i in range(k):\n",
    "        newCluster = np.c_[ newCluster, distance(data,np.array(initial_centers[i])) ]\n",
    "    #get cluster name\n",
    "    newCluster = np.argmin(newCluster,axis=1)\n",
    "    new_means = []\n",
    "    #get new means\n",
    "    for i in range(k):\n",
    "        newPoints = X_train[newCluster==i]\n",
    "        if len(newPoints)==0: new_means.append( initial_centers[i])\n",
    "        else: new_means.append( tuple( newPoints.mean(axis=0) )  )\n",
    "    return new_means"
   ]
  },
  {
   "cell_type": "markdown",
   "metadata": {},
   "source": [
    "#### K-Means ++\n",
    "K-Means++ is a smart way to select initial cluster center. It helps to optimize K-Means faster.\n",
    "\n",
    "Here we are using random initialization only."
   ]
  },
  {
   "cell_type": "code",
   "execution_count": 7,
   "metadata": {},
   "outputs": [],
   "source": [
    "def getRandomCenters(data,k):\n",
    "    X = np.random.randint( data[:,0].min(), data[:,0].max(), size=k )\n",
    "    Y = np.random.randint( data[:,1].min(), data[:,1].max(), size=k )\n",
    "    return [ (x,y) for x,y in zip(X,Y) ]\n",
    "initial_centers = getRandomCenters(X_train,4)"
   ]
  },
  {
   "cell_type": "code",
   "execution_count": 8,
   "metadata": {},
   "outputs": [
    {
     "name": "stdout",
     "output_type": "stream",
     "text": [
      "Iteration 1\n",
      "Iteration 2\n",
      "Iteration 3\n",
      "Iteration 4\n",
      "Iteration 5\n",
      "Iteration 6\n",
      "Iteration 7\n",
      "Iteration 8\n",
      "Iteration 9\n",
      "Iteration 10\n",
      "Iteration 11\n",
      "Iteration 12\n",
      "Iteration 13\n",
      "Iteration 14\n",
      "Iteration 15\n",
      "Iteration 16\n",
      "Iteration 17\n",
      "Iteration 18\n",
      "Iteration 19\n",
      "Iteration 20\n",
      "Iteration 21\n",
      "Iteration 22\n",
      "Iteration 23\n",
      "Iteration 24\n",
      "Clusters Centers Found : [(9.030267205974946, 3.87415779338764), (2.8193121728885457, 2.090226578949068), (7.944713057502554, 7.753394996651528), (2.0614414080250705, 8.780765929802271)]\n"
     ]
    }
   ],
   "source": [
    "old_centers = [None,None,None,None]\n",
    "i=1\n",
    "while areCentersChanged(initial_centers,old_centers):\n",
    "    print(f'Iteration {i}');i+=1\n",
    "    old_centers = initial_centers\n",
    "    initial_centers = getNewMeans( 4, X_train, initial_centers)\n",
    "print(f'Clusters Centers Found : {initial_centers}')"
   ]
  },
  {
   "cell_type": "code",
   "execution_count": 9,
   "metadata": {},
   "outputs": [
    {
     "data": {
      "image/png": "[encoded data removed]",
      "text/plain": [
       "<matplotlib.figure.Figure at 0x7f83e281e2e8>"
      ]
     },
     "metadata": {},
     "output_type": "display_data"
    }
   ],
   "source": [
    "def getClusters( data, centers ):\n",
    "    cluster = np.empty((len(data),0))\n",
    "    for i in range(len(centers)):\n",
    "        cluster = np.c_[ cluster, distance(data,np.array(centers[i])) ]\n",
    "    return np.argmin(cluster,axis=1)\n",
    "cluster = getClusters(X_test,initial_centers)\n",
    "for i in range(4):\n",
    "    plt.scatter( X_test[:,0][cluster==i], X_test[:,1][cluster==i] )"
   ]
  },
  {
   "cell_type": "markdown",
   "metadata": {},
   "source": [
    "#### Adjusted Rand Score\n",
    "It is a metric which computes a similarity measure between two clusterings by considering all pairs of samples and counting pairs that are assigned in the same or different clusters in the predicted and true clusterings."
   ]
  },
  {
   "cell_type": "code",
   "execution_count": 10,
   "metadata": {},
   "outputs": [
    {
     "data": {
      "text/plain": [
       "0.8973535820622432"
      ]
     },
     "execution_count": 10,
     "metadata": {},
     "output_type": "execute_result"
    }
   ],
   "source": [
    "from sklearn.metrics import adjusted_rand_score\n",
    "adjusted_rand_score(Y_test, cluster,)"
   ]
  },
  {
   "cell_type": "markdown",
   "metadata": {},
   "source": [
    "#### Elbow Method\n",
    "1. It is a method to find number of cluster that are possible in given data.\n",
    "2. Uses sum of squared distances vs number of clusters.\n",
    "3. When the plot takes a sharp curve (creates a elbow). That is optimal number of cluster.\n",
    "4. This means increasing number of cluster center is not having much impact on overall distance form center."
   ]
  },
  {
   "cell_type": "code",
   "execution_count": 11,
   "metadata": {},
   "outputs": [
    {
     "data": {
      "text/plain": [
       "Text(0,0.5,'Sum of Squared Distance')"
      ]
     },
     "execution_count": 11,
     "metadata": {},
     "output_type": "execute_result"
    },
    {
     "data": {
      "image/png": "[encoded data removed]",
      "text/plain": [
       "<matplotlib.figure.Figure at 0x7f83e2783860>"
      ]
     },
     "metadata": {},
     "output_type": "display_data"
    }
   ],
   "source": [
    "ssd = []\n",
    "K = [2,3,4,5,6,7,8,9,10]\n",
    "for k in K:\n",
    "    new = getRandomCenters(X_train,k)\n",
    "    old = [None, None, None, None]\n",
    "    while areCentersChanged(new,old):\n",
    "        old = new\n",
    "        new = getNewMeans( k, X_train, new)\n",
    "    cluster = getClusters(X_train,new)\n",
    "    temp = 0\n",
    "    for i in range(k):\n",
    "        temp += np.sum( np.square(distance(X_train[cluster==i], np.array(new[i]))))\n",
    "    ssd.append(temp)\n",
    "plt.plot(K,ssd)\n",
    "for k,s in zip(K,ssd): plt.scatter( k,s, marker='x', c='r' )\n",
    "plt.xlabel( 'Number of Clusters' )\n",
    "plt.ylabel( 'Sum of Squared Distance' )"
   ]
  },
  {
   "cell_type": "code",
   "execution_count": null,
   "metadata": {
    "collapsed": true
   },
   "outputs": [],
   "source": []
  }
 ],
 "metadata": {
  "kernelspec": {
   "display_name": "Python 3",
   "language": "python",
   "name": "python3"
  },
  "language_info": {
   "codemirror_mode": {
    "name": "ipython",
    "version": 3
   },
   "file_extension": ".py",
   "mimetype": "text/x-python",
   "name": "python",
   "nbconvert_exporter": "python",
   "pygments_lexer": "ipython3",
   "version": "3.6.3"
  }
 },
 "nbformat": 4,
 "nbformat_minor": 2
}
