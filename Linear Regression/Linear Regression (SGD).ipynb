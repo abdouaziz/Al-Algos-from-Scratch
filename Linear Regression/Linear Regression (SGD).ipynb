{
 "cells": [
  {
   "cell_type": "code",
   "execution_count": 1,
   "metadata": {
    "collapsed": true
   },
   "outputs": [],
   "source": [
    "import numpy as np\n",
    "import pandas as pd\n",
    "np.random.seed(2)"
   ]
  },
  {
   "cell_type": "code",
   "execution_count": 2,
   "metadata": {},
   "outputs": [
    {
     "data": {
      "text/plain": [
       "((1000, 2), (1000,))"
      ]
     },
     "execution_count": 2,
     "metadata": {},
     "output_type": "execute_result"
    }
   ],
   "source": [
    "data = pd.read_csv('student.csv')\n",
    "X = data.drop('Writing',axis=1).values\n",
    "Y = data['Writing'].values\n",
    "X.shape, Y.shape"
   ]
  },
  {
   "cell_type": "code",
   "execution_count": 3,
   "metadata": {
    "collapsed": true
   },
   "outputs": [],
   "source": [
    "def initialize_weights_and_bais(n):\n",
    "    W = np.random.randn(n) #(n,1)\n",
    "    b = 0\n",
    "    return W,b"
   ]
  },
  {
   "cell_type": "code",
   "execution_count": 4,
   "metadata": {
    "collapsed": true
   },
   "outputs": [],
   "source": [
    "def cost_function(h,Y):\n",
    "    \"mean squared error\"\n",
    "    m = len(Y)\n",
    "    loss = np.square(h-Y)\n",
    "    cost = np.sum(loss)/(2*m)\n",
    "    return cost"
   ]
  },
  {
   "cell_type": "markdown",
   "metadata": {},
   "source": [
    "1. $ output(h) =  X.W + b $\n",
    "2. $ cost(J) = \\frac{1}{2*m} \\sum_{i=1}^m (h-Y)^2  $\n",
    "3. $ \\large \\frac{dJ}{dw} = \\frac{1}{m} \\small (X^{T} . (h-Y)) $\n",
    "4. $ \\large \\frac{dJ}{db} = \\frac{1}{m} \\small \\sum (h-Y) $"
   ]
  },
  {
   "cell_type": "code",
   "execution_count": 5,
   "metadata": {
    "collapsed": true
   },
   "outputs": [],
   "source": [
    "def get_output(X,W,b):\n",
    "    return np.dot(X,W)+b\n",
    "    \n",
    "def optimize(W,b,X,Y,lr=0.01,lmda=0.1):\n",
    "    \"\"\"\n",
    "    W = weights\n",
    "    b = bias\n",
    "    lr = learning rate\n",
    "    lmda = regularization parameter\n",
    "    \"\"\"\n",
    "    m = len(Y)\n",
    "    h = get_output(X,W,b)\n",
    "    \n",
    "    dW = np.dot( X.T, (h-Y) ) / m # (4,1)\n",
    "    db = np.sum( h-Y )  / m\n",
    "    \n",
    "    W = W - lr*dW\n",
    "    b = b - lr*db\n",
    "    return W,b"
   ]
  },
  {
   "cell_type": "code",
   "execution_count": 6,
   "metadata": {},
   "outputs": [
    {
     "name": "stdout",
     "output_type": "stream",
     "text": [
      "Iteration: 0, Cost: 5288.224\n",
      "Iteration: 1, Cost: 4303.905\n",
      "Iteration: 2, Cost: 3503.232\n",
      "Iteration: 3, Cost: 2851.942\n",
      "Iteration: 4, Cost: 2322.164\n",
      "Iteration: 5, Cost: 1891.228\n",
      "Iteration: 6, Cost: 1540.692\n",
      "Iteration: 7, Cost: 1255.556\n",
      "Iteration: 8, Cost: 1023.618\n",
      "Iteration: 9, Cost: 834.952\n",
      "Iteration: 10, Cost: 681.486\n",
      "Iteration: 11, Cost: 556.653\n",
      "Iteration: 12, Cost: 455.109\n",
      "Iteration: 13, Cost: 372.510\n",
      "Iteration: 14, Cost: 305.322\n",
      "Iteration: 15, Cost: 250.669\n",
      "Iteration: 16, Cost: 206.212\n",
      "Iteration: 17, Cost: 170.049\n",
      "Iteration: 18, Cost: 140.633\n",
      "Iteration: 19, Cost: 116.705\n",
      "Iteration: 20, Cost: 97.241\n",
      "Iteration: 21, Cost: 81.408\n",
      "Iteration: 22, Cost: 68.529\n",
      "Iteration: 23, Cost: 58.052\n",
      "Iteration: 24, Cost: 49.530\n",
      "Iteration: 25, Cost: 42.597\n",
      "Iteration: 26, Cost: 36.958\n",
      "Iteration: 27, Cost: 32.370\n",
      "Iteration: 28, Cost: 28.638\n",
      "Iteration: 29, Cost: 25.602\n",
      "Iteration: 30, Cost: 23.132\n",
      "Iteration: 31, Cost: 21.123\n",
      "Iteration: 32, Cost: 19.488\n",
      "Iteration: 33, Cost: 18.158\n",
      "Iteration: 34, Cost: 17.076\n",
      "Iteration: 35, Cost: 16.195\n",
      "Iteration: 36, Cost: 15.479\n",
      "Iteration: 37, Cost: 14.896\n",
      "Iteration: 38, Cost: 14.421\n",
      "Iteration: 39, Cost: 14.034\n",
      "Iteration: 40, Cost: 13.720\n",
      "Iteration: 41, Cost: 13.464\n",
      "Iteration: 42, Cost: 13.255\n",
      "Iteration: 43, Cost: 13.085\n",
      "Iteration: 44, Cost: 12.946\n",
      "Iteration: 45, Cost: 12.833\n",
      "Iteration: 46, Cost: 12.741\n",
      "Iteration: 47, Cost: 12.665\n",
      "Iteration: 48, Cost: 12.604\n",
      "Iteration: 49, Cost: 12.553\n",
      "Iteration: 50, Cost: 12.512\n",
      "Iteration: 51, Cost: 12.478\n",
      "Iteration: 52, Cost: 12.450\n",
      "Iteration: 53, Cost: 12.428\n",
      "Iteration: 54, Cost: 12.409\n",
      "Iteration: 55, Cost: 12.393\n",
      "Iteration: 56, Cost: 12.380\n",
      "Iteration: 57, Cost: 12.369\n",
      "Iteration: 58, Cost: 12.360\n",
      "Iteration: 59, Cost: 12.352\n",
      "Iteration: 60, Cost: 12.345\n",
      "Iteration: 61, Cost: 12.340\n",
      "Iteration: 62, Cost: 12.335\n",
      "Iteration: 63, Cost: 12.330\n",
      "Iteration: 64, Cost: 12.327\n",
      "Iteration: 65, Cost: 12.323\n",
      "Iteration: 66, Cost: 12.320\n",
      "Iteration: 67, Cost: 12.317\n",
      "Iteration: 68, Cost: 12.315\n",
      "Iteration: 69, Cost: 12.313\n",
      "Iteration: 70, Cost: 12.310\n",
      "Iteration: 71, Cost: 12.308\n",
      "Iteration: 72, Cost: 12.306\n",
      "Iteration: 73, Cost: 12.304\n",
      "Iteration: 74, Cost: 12.303\n",
      "Iteration: 75, Cost: 12.301\n",
      "Iteration: 76, Cost: 12.299\n",
      "Iteration: 77, Cost: 12.297\n",
      "Iteration: 78, Cost: 12.296\n",
      "Iteration: 79, Cost: 12.294\n",
      "Iteration: 80, Cost: 12.292\n",
      "Iteration: 81, Cost: 12.291\n",
      "Iteration: 82, Cost: 12.289\n",
      "Iteration: 83, Cost: 12.288\n",
      "Iteration: 84, Cost: 12.286\n",
      "Iteration: 85, Cost: 12.284\n",
      "Iteration: 86, Cost: 12.283\n",
      "Iteration: 87, Cost: 12.281\n",
      "Iteration: 88, Cost: 12.280\n",
      "Iteration: 89, Cost: 12.278\n",
      "Iteration: 90, Cost: 12.277\n",
      "Iteration: 91, Cost: 12.275\n",
      "Iteration: 92, Cost: 12.274\n",
      "Iteration: 93, Cost: 12.272\n",
      "Iteration: 94, Cost: 12.271\n",
      "Iteration: 95, Cost: 12.269\n",
      "Iteration: 96, Cost: 12.267\n",
      "Iteration: 97, Cost: 12.266\n",
      "Iteration: 98, Cost: 12.264\n",
      "Iteration: 99, Cost: 12.263\n"
     ]
    }
   ],
   "source": [
    "W,b = initialize_weights_and_bais(X.shape[1])\n",
    "for i in range(100):\n",
    "    h = get_output(X,W,b)\n",
    "    cost = cost_function(h,Y)\n",
    "    print(f\"Iteration: {i}, Cost: {cost:.3f}\")\n",
    "    W,b = optimize(W,b,X,Y,lr=1e-5,lmda=0.5)"
   ]
  },
  {
   "cell_type": "code",
   "execution_count": null,
   "metadata": {
    "collapsed": true
   },
   "outputs": [],
   "source": []
  }
 ],
 "metadata": {
  "kernelspec": {
   "display_name": "Python 3",
   "language": "python",
   "name": "python3"
  },
  "language_info": {
   "codemirror_mode": {
    "name": "ipython",
    "version": 3
   },
   "file_extension": ".py",
   "mimetype": "text/x-python",
   "name": "python",
   "nbconvert_exporter": "python",
   "pygments_lexer": "ipython3",
   "version": "3.6.3"
  }
 },
 "nbformat": 4,
 "nbformat_minor": 2
}
