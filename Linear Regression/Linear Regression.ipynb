{
 "cells": [
  {
   "cell_type": "code",
   "execution_count": 1,
   "metadata": {
    "collapsed": true
   },
   "outputs": [],
   "source": [
    "import pandas as pd\n",
    "import numpy as np\n",
    "import matplotlib.pyplot as plt\n",
    "\n",
    "class LinearRegression(object):\n",
    "    def __init__(self,seed=None):\n",
    "        np.random.seed(seed if seed is not None else np.random.randint(100))\n",
    "        self.W = None\n",
    "        self.b = None\n",
    "        self.length = None\n",
    "        self.m = None\n",
    "        self.costs = []\n",
    "        self.iterations = []\n",
    "        \n",
    "    def initialize_weights_and_bais(self):\n",
    "        \"\"\"\n",
    "        Randomly generating weights \n",
    "        \"\"\"\n",
    "        self.W = np.random.randn(self.length) #(n,1)\n",
    "        self.b = 0\n",
    "        \n",
    "    def computeCost(self,h,Y):\n",
    "        \"\"\"Mean Squared Error\"\"\"\n",
    "        loss = np.square(h-Y)\n",
    "        cost = np.sum(loss)/(2*self.m)\n",
    "        return cost\n",
    "\n",
    "    def optimize(self,X,Y,lr=None):\n",
    "        \"\"\"\n",
    "        Optimizing step for weight and bias\n",
    "        \"\"\"\n",
    "        h = self.predict(X)\n",
    "        dW = np.dot( X.T, (h-Y) ) / self.m\n",
    "        db = np.sum( h-Y )  / self.m\n",
    "        self.W = self.W - lr*dW\n",
    "        self.b = self.b - lr*db\n",
    "    \n",
    "    def fit(self, X, y, lr=1e-5, tol=0.01, verbose=True):\n",
    "        \"\"\"\n",
    "        Initialize weights and optimize them using multiple iterations\n",
    "        \"\"\"\n",
    "        self.m,self.length = X.shape\n",
    "        self.initialize_weights_and_bais()\n",
    "        last_cost,i = float('inf'),0\n",
    "        while True:\n",
    "            h = self.predict(X)\n",
    "            cost = self.computeCost(h,y)\n",
    "            if verbose: print(f\"Iteration: {i}, Cost: {cost:.3f}\")\n",
    "            self.optimize(X,y,lr=lr)\n",
    "            if last_cost-cost < tol: break\n",
    "            else: last_cost,i = cost,i+1\n",
    "            self.costs.append(cost)\n",
    "            self.iterations.append(i)\n",
    "            \n",
    "    def predict(self,X):\n",
    "        \"\"\"\n",
    "        Prediction for X\n",
    "        \"\"\"\n",
    "        return np.dot(X,self.W)+self.b\n",
    "    \n",
    "    def plot(self,figsize=(7,5)):\n",
    "        \"\"\"\n",
    "        Interation vs Cost\n",
    "        \"\"\"\n",
    "        plt.figure(figsize=figsize)\n",
    "        plt.plot(self.iterations,self.costs)\n",
    "        plt.xlabel('Iterations')\n",
    "        plt.ylabel('Cost')\n",
    "        plt.title(\"Iterations vs Cost\")\n",
    "        plt.show()\n",
    "        \n",
    "    def score(self,X,y):\n",
    "        \"\"\"r2 : 1-ESS/TSS\"\"\"\n",
    "        return 1-(np.sum(((self.predict(X) - y)**2))/np.sum((y-np.mean(y))**2))\n",
    "        \n",
    "    @property\n",
    "    def weights(self): return self.W\n",
    "    \n",
    "    @property\n",
    "    def bias(self): return self.b"
   ]
  },
  {
   "cell_type": "markdown",
   "metadata": {},
   "source": [
    "$ output(h) =  X.W + b $\n",
    "\n",
    "$ cost(J) = \\frac{1}{2*m} \\sum_{i=1}^m (h-Y)^2  $\n",
    "\n",
    "$ \\large \\frac{dJ}{dw} = \\frac{1}{m} \\small (X^{T} . (h-Y)) $\n",
    "\n",
    "$ \\large \\frac{dJ}{db} = \\frac{1}{m} \\small \\sum (h-Y) $"
   ]
  },
  {
   "cell_type": "code",
   "execution_count": 2,
   "metadata": {
    "collapsed": true
   },
   "outputs": [],
   "source": [
    "def normalize(X): return (X-X.mean(axis=0))/X.std(axis=0)\n",
    "\n",
    "def train_test_split(X,Y,test_size=None,seed=5):\n",
    "    \"\"\"\n",
    "    Custom Train Test split function\n",
    "    \"\"\"\n",
    "    assert test_size!=None, \"test_size cannot be None\"\n",
    "    np.random.seed(seed)\n",
    "    indexes = np.random.choice([False,True],size=len(X),p=[test_size,1-test_size])\n",
    "    return X[indexes],X[~indexes],Y[indexes],Y[~indexes]"
   ]
  },
  {
   "cell_type": "code",
   "execution_count": 3,
   "metadata": {
    "collapsed": true
   },
   "outputs": [],
   "source": [
    "def root_mean_squared_error(Y,y):\n",
    "    \"\"\"\n",
    "    Args\n",
    "    Y : predicted\n",
    "    y : True labels\n",
    "    \"\"\"\n",
    "    loss = np.square(Y-y)\n",
    "    cost = np.sqrt(np.sum(loss)/(2*len(y)))\n",
    "    return cost"
   ]
  },
  {
   "cell_type": "code",
   "execution_count": 4,
   "metadata": {},
   "outputs": [
    {
     "data": {
      "text/html": [
       "<div>\n",
       "<style scoped>\n",
       "    .dataframe tbody tr th:only-of-type {\n",
       "        vertical-align: middle;\n",
       "    }\n",
       "\n",
       "    .dataframe tbody tr th {\n",
       "        vertical-align: top;\n",
       "    }\n",
       "\n",
       "    .dataframe thead th {\n",
       "        text-align: right;\n",
       "    }\n",
       "</style>\n",
       "<table border=\"1\" class=\"dataframe\">\n",
       "  <thead>\n",
       "    <tr style=\"text-align: right;\">\n",
       "      <th></th>\n",
       "      <th>crim</th>\n",
       "      <th>zn</th>\n",
       "      <th>indus</th>\n",
       "      <th>chas</th>\n",
       "      <th>nox</th>\n",
       "      <th>rm</th>\n",
       "      <th>age</th>\n",
       "      <th>dis</th>\n",
       "      <th>rad</th>\n",
       "      <th>tax</th>\n",
       "      <th>ptratio</th>\n",
       "      <th>b</th>\n",
       "      <th>lstat</th>\n",
       "      <th>medv</th>\n",
       "    </tr>\n",
       "  </thead>\n",
       "  <tbody>\n",
       "    <tr>\n",
       "      <th>0</th>\n",
       "      <td>0.00632</td>\n",
       "      <td>18.0</td>\n",
       "      <td>2.31</td>\n",
       "      <td>0</td>\n",
       "      <td>0.538</td>\n",
       "      <td>6.575</td>\n",
       "      <td>65.2</td>\n",
       "      <td>4.0900</td>\n",
       "      <td>1</td>\n",
       "      <td>296</td>\n",
       "      <td>15.3</td>\n",
       "      <td>396.90</td>\n",
       "      <td>4.98</td>\n",
       "      <td>24.0</td>\n",
       "    </tr>\n",
       "    <tr>\n",
       "      <th>1</th>\n",
       "      <td>0.02731</td>\n",
       "      <td>0.0</td>\n",
       "      <td>7.07</td>\n",
       "      <td>0</td>\n",
       "      <td>0.469</td>\n",
       "      <td>6.421</td>\n",
       "      <td>78.9</td>\n",
       "      <td>4.9671</td>\n",
       "      <td>2</td>\n",
       "      <td>242</td>\n",
       "      <td>17.8</td>\n",
       "      <td>396.90</td>\n",
       "      <td>9.14</td>\n",
       "      <td>21.6</td>\n",
       "    </tr>\n",
       "    <tr>\n",
       "      <th>2</th>\n",
       "      <td>0.02729</td>\n",
       "      <td>0.0</td>\n",
       "      <td>7.07</td>\n",
       "      <td>0</td>\n",
       "      <td>0.469</td>\n",
       "      <td>7.185</td>\n",
       "      <td>61.1</td>\n",
       "      <td>4.9671</td>\n",
       "      <td>2</td>\n",
       "      <td>242</td>\n",
       "      <td>17.8</td>\n",
       "      <td>392.83</td>\n",
       "      <td>4.03</td>\n",
       "      <td>34.7</td>\n",
       "    </tr>\n",
       "    <tr>\n",
       "      <th>3</th>\n",
       "      <td>0.03237</td>\n",
       "      <td>0.0</td>\n",
       "      <td>2.18</td>\n",
       "      <td>0</td>\n",
       "      <td>0.458</td>\n",
       "      <td>6.998</td>\n",
       "      <td>45.8</td>\n",
       "      <td>6.0622</td>\n",
       "      <td>3</td>\n",
       "      <td>222</td>\n",
       "      <td>18.7</td>\n",
       "      <td>394.63</td>\n",
       "      <td>2.94</td>\n",
       "      <td>33.4</td>\n",
       "    </tr>\n",
       "    <tr>\n",
       "      <th>4</th>\n",
       "      <td>0.06905</td>\n",
       "      <td>0.0</td>\n",
       "      <td>2.18</td>\n",
       "      <td>0</td>\n",
       "      <td>0.458</td>\n",
       "      <td>7.147</td>\n",
       "      <td>54.2</td>\n",
       "      <td>6.0622</td>\n",
       "      <td>3</td>\n",
       "      <td>222</td>\n",
       "      <td>18.7</td>\n",
       "      <td>396.90</td>\n",
       "      <td>5.33</td>\n",
       "      <td>36.2</td>\n",
       "    </tr>\n",
       "  </tbody>\n",
       "</table>\n",
       "</div>"
      ],
      "text/plain": [
       "      crim    zn  indus  chas    nox     rm   age     dis  rad  tax  ptratio  \\\n",
       "0  0.00632  18.0   2.31     0  0.538  6.575  65.2  4.0900    1  296     15.3   \n",
       "1  0.02731   0.0   7.07     0  0.469  6.421  78.9  4.9671    2  242     17.8   \n",
       "2  0.02729   0.0   7.07     0  0.469  7.185  61.1  4.9671    2  242     17.8   \n",
       "3  0.03237   0.0   2.18     0  0.458  6.998  45.8  6.0622    3  222     18.7   \n",
       "4  0.06905   0.0   2.18     0  0.458  7.147  54.2  6.0622    3  222     18.7   \n",
       "\n",
       "        b  lstat  medv  \n",
       "0  396.90   4.98  24.0  \n",
       "1  396.90   9.14  21.6  \n",
       "2  392.83   4.03  34.7  \n",
       "3  394.63   2.94  33.4  \n",
       "4  396.90   5.33  36.2  "
      ]
     },
     "execution_count": 4,
     "metadata": {},
     "output_type": "execute_result"
    }
   ],
   "source": [
    "data = pd.read_csv('data.csv')\n",
    "data.head()"
   ]
  },
  {
   "cell_type": "code",
   "execution_count": 5,
   "metadata": {},
   "outputs": [
    {
     "data": {
      "text/plain": [
       "((506, 13), (506,))"
      ]
     },
     "execution_count": 5,
     "metadata": {},
     "output_type": "execute_result"
    }
   ],
   "source": [
    "X = data.drop('medv',axis=1).values\n",
    "Y = data['medv'].values\n",
    "X.shape,Y.shape"
   ]
  },
  {
   "cell_type": "code",
   "execution_count": 6,
   "metadata": {},
   "outputs": [
    {
     "data": {
      "text/plain": [
       "((355, 13), (151, 13), (355,), (151,))"
      ]
     },
     "execution_count": 6,
     "metadata": {},
     "output_type": "execute_result"
    }
   ],
   "source": [
    "X = normalize(X)  #normalizing data\n",
    "\n",
    "X_train,X_val,Y_train,Y_val = train_test_split(X,Y,test_size=0.3,seed=7)\n",
    "X_train.shape,X_val.shape,Y_train.shape,Y_val.shape"
   ]
  },
  {
   "cell_type": "code",
   "execution_count": 7,
   "metadata": {},
   "outputs": [
    {
     "data": {
      "text/plain": [
       "0.6343213909415806"
      ]
     },
     "execution_count": 7,
     "metadata": {},
     "output_type": "execute_result"
    }
   ],
   "source": [
    "lr = LinearRegression(seed=5)\n",
    "lr.fit(X_train,Y_train,lr=0.1,verbose=False)\n",
    "lr.score(X_val,Y_val)"
   ]
  },
  {
   "cell_type": "code",
   "execution_count": 8,
   "metadata": {},
   "outputs": [
    {
     "data": {
      "text/plain": [
       "3.610928032691001"
      ]
     },
     "execution_count": 8,
     "metadata": {},
     "output_type": "execute_result"
    }
   ],
   "source": [
    "root_mean_squared_error( lr.predict(X_val), Y_val )"
   ]
  },
  {
   "cell_type": "code",
   "execution_count": 9,
   "metadata": {},
   "outputs": [
    {
     "data": {
      "image/png": "[encoded data removed]",
      "text/plain": [
       "<Figure size 504x360 with 1 Axes>"
      ]
     },
     "metadata": {
      "needs_background": "light"
     },
     "output_type": "display_data"
    }
   ],
   "source": [
    "lr.plot()"
   ]
  },
  {
   "cell_type": "code",
   "execution_count": 10,
   "metadata": {},
   "outputs": [
    {
     "data": {
      "text/plain": [
       "array([-0.56805872,  0.59795349,  0.57646615,  0.59123983, -1.56443688,\n",
       "        3.64062055, -0.16614372, -2.23022711,  1.2855218 , -0.89820358,\n",
       "       -2.03540025,  1.04313723, -3.65778775])"
      ]
     },
     "execution_count": 10,
     "metadata": {},
     "output_type": "execute_result"
    }
   ],
   "source": [
    "lr.weights"
   ]
  },
  {
   "cell_type": "code",
   "execution_count": 11,
   "metadata": {},
   "outputs": [
    {
     "data": {
      "text/plain": [
       "22.533119882762424"
      ]
     },
     "execution_count": 11,
     "metadata": {},
     "output_type": "execute_result"
    }
   ],
   "source": [
    "lr.bias"
   ]
  },
  {
   "cell_type": "code",
   "execution_count": null,
   "metadata": {
    "collapsed": true
   },
   "outputs": [],
   "source": []
  }
 ],
 "metadata": {
  "kernelspec": {
   "display_name": "Python 3",
   "language": "python",
   "name": "python3"
  },
  "language_info": {
   "codemirror_mode": {
    "name": "ipython",
    "version": 3
   },
   "file_extension": ".py",
   "mimetype": "text/x-python",
   "name": "python",
   "nbconvert_exporter": "python",
   "pygments_lexer": "ipython3",
   "version": "3.6.3"
  }
 },
 "nbformat": 4,
 "nbformat_minor": 2
}
