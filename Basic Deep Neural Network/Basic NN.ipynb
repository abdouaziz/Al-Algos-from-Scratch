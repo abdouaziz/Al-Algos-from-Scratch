{
 "cells": [
  {
   "cell_type": "code",
   "execution_count": 1,
   "metadata": {
    "collapsed": true
   },
   "outputs": [],
   "source": [
    "import numpy as np\n",
    "%matplotlib inline\n",
    "import matplotlib.pyplot as plt"
   ]
  },
  {
   "cell_type": "markdown",
   "metadata": {},
   "source": [
    "## Defining Activation Functions\n",
    "Activation Functions are really important in Neural Networks, they help to make sense out of something very complicated by introducing a non-linearity between the input and output response. They introduce non-linear properties to our Network.\n",
    "\n",
    "If we do not use activation function our network will be linear function. Linear equations are easy to solve but they are limited in complexity. A Neural Network without Activation function would simply be a Linear regression Model\n",
    "### Sigmoid : $ \\frac{1}{1+ \\epsilon^{-z} } $\n",
    "1. Have problem when, error is too large, it has learns slow, The gradient of sigmoids becomes increasingly small as the absolute value of x increases which causes vanishing gradient problem.\n",
    "2. Generally used in Last layer only, because it gives output between 0 and 1\n",
    "\n",
    "### ReLU : $ max( 0, z ) $\n",
    "1. Generally used in hidden layers\n",
    "2. Have a regularization effect, because some node outputs 0.\n",
    "3. One major benefit is the reduced likelihood of the gradient to vanish. This arises when z>0. In this regime the gradient has a constant value. The constant gradient of ReLUs results in faster learning.\n"
   ]
  },
  {
   "cell_type": "code",
   "execution_count": 2,
   "metadata": {
    "collapsed": true
   },
   "outputs": [],
   "source": [
    "def sigmoid(Z): return 1/(1+np.exp(-Z))\n",
    "def relu(Z): return np.maximum(0,Z)"
   ]
  },
  {
   "cell_type": "code",
   "execution_count": 3,
   "metadata": {
    "collapsed": true
   },
   "outputs": [],
   "source": [
    "def initialize_two_hidden_layer_nn(n_x, n_h1, n_h2, n_y): # (n,16,8,1)\n",
    "    \n",
    "    W1 = np.random.randn(n_x,n_h1)   #(n,16)\n",
    "    b1 = np.zeros( shape=(1, n_h1) ) #(1,16)\n",
    "    \n",
    "    W2 = np.random.randn( n_h1,n_h2) #(16,8)\n",
    "    b2 = np.zeros( shape=(1, n_h2) ) #(1,8)\n",
    "    \n",
    "    W3 = np.random.randn( n_h2,n_y)  #(8,1)\n",
    "    b3 = np.zeros( shape=(1, n_y) )  #(1,1)\n",
    "    \n",
    "    return { 'W1':W1, 'b1':b1, 'W2':W2, 'b2':b2, 'W3':W3, 'b3':b3  }"
   ]
  },
  {
   "cell_type": "code",
   "execution_count": 4,
   "metadata": {
    "collapsed": true
   },
   "outputs": [],
   "source": [
    "def forward_prop( X, parameters ): #X = (:,n)\n",
    "    W1 = parameters['W1'] # (n,16)\n",
    "    b1 = parameters['b1']  # (1,16)\n",
    "    W2 = parameters['W2'] # (16,8)\n",
    "    b2 = parameters['b2'] # (1,8)\n",
    "    W3 = parameters['W3'] # (8,1)\n",
    "    b3 = parameters['b3'] # (1,1)\n",
    "    \n",
    "    #forward_prop\n",
    "    Z1 = np.dot( X, W1 ) + b1 # (:,16)\n",
    "    A1 = relu(Z1) #(:,16)\n",
    "    Z2 = np.dot( A1, W2 ) + b2 # (:,8)\n",
    "    A2 = relu(Z2) #(:,8)\n",
    "    Z3 = np.dot( A2, W3 ) + b3 # (:,1)\n",
    "    A3 = sigmoid(Z3) #(:,1)\n",
    "    \n",
    "    return A3, {'Z1':Z1,'A1':A1,'Z2':Z2,'A2':A2,'Z3':Z3,'A3':A3}"
   ]
  },
  {
   "cell_type": "markdown",
   "metadata": {},
   "source": [
    "## Loss Function\n",
    "1. Loss function is defined on one data point, prediction and label, and measures the penalty\n",
    "2. Cost function is usually more general. It might be a sum of loss functions over your training set plus some model complexity penalty (regularization).\n",
    "\n",
    "### Cross entropy loss function or Log Loss\n",
    "1. Defination : $ -{(y\\log(p) + (1 - y)\\log(1 - p))} $\n",
    "2. If y = 0, p = ~1: Loss must be high, by equation -(0 + -infinity)\n",
    "3. If y = 0, p = ~0: Loss must be low, by equation -(0+ ~0)\n",
    "4. If y = 1, p = ~1: Loss must be low, by equation -(~0 + 0)\n",
    "5. If y = 1, p = ~0: Loss must be low, by equation -(-infinity + 0)"
   ]
  },
  {
   "cell_type": "code",
   "execution_count": 5,
   "metadata": {
    "collapsed": true
   },
   "outputs": [],
   "source": [
    "def cost_function( AL, Y ): #Y = (:,1)\n",
    "    \"\"\" cross entropy loss function\"\"\"\n",
    "    m = Y.shape[0]\n",
    "    loss = -1 * ( np.multiply(Y, np.log(AL)) + np.multiply((1 - Y), np.log(1 - AL)) ) # (:,1)\n",
    "    cost = (1/m)*np.sum(loss) #float\n",
    "    return cost"
   ]
  },
  {
   "cell_type": "markdown",
   "metadata": {},
   "source": [
    "### Important Derivatives\n",
    "\n",
    "1. Sigmoid Derivative :  $ \\frac {\\partial sigmoid}{ \\partial z } = g' = sigmoid * (1-sigmoid) $\n",
    "2. ReLU Derivative : $ \\frac{\\partial relu}{\\partial z} = if z>0, 1 \\; else \\; 0 $\n",
    "3. Derivative of Cross-Entropy Loss wrt last layer activation(prob) : $ \\frac{ \\partial loss}{\\partial AL} = -( \\frac{Y}{AL} - \\frac{1-Y}{1-AL} ) $"
   ]
  },
  {
   "cell_type": "code",
   "execution_count": 6,
   "metadata": {
    "collapsed": true
   },
   "outputs": [],
   "source": [
    "def sigmoid_derivative(z): # g = 'sigmoid'\n",
    "    s = sigmoid(z)\n",
    "    return s * (1-s)\n",
    "\n",
    "def relu_derivative(z): # g = 'relu'\n",
    "    return (z>0)*1\n",
    "\n",
    "def derviative_of_cross_entropy_loss(AL,Y):\n",
    "    return -(np.divide(Y, AL) - np.divide(1 - Y, 1 - AL))"
   ]
  },
  {
   "cell_type": "markdown",
   "metadata": {},
   "source": [
    "### Backpropogation Using Gradient Descent\n",
    "\n",
    "![NN Architecture](images/basic_nn.png)\n",
    "\n",
    "1. $ \\frac{dL}{dA3} = gradient \\; of \\; cost \\; function \\; wrt \\; output $\n",
    "2. $ \\frac{dL}{dZ3} = \\frac{dL}{dA3}*\\frac{dA3}{dZ3} = \\frac{dL}{dA3}*\\frac{d(g(Z3))}{d(Z)} = \\frac{dL}{dA3} * g'(\\scriptsize Z3); \\; where \\; g' = \\frac{\\partial relu}{\\partial z} $\n",
    "3. $ \\frac{dL}{dW3} = \\scriptsize A2^T . \\frac{dL}{dZ3}, \\frac{dL}{db3} = \\frac{dL}{dZ3} $\n",
    "4. $ \\frac{dL}{dA2} = \\frac{dL}{dZ3} . \\scriptsize W3^{T} $\n",
    "5. $ \\frac{dL}{dZ2} = \\frac{dL}{dA2}*\\frac{dA2}{dZ2} = \\frac{dL}{dA2}*\\frac{d(g(Z2))}{d(Z)} = \\frac{dL}{dA2} * g'(\\scriptsize Z2) \\; where \\; g' = \\frac{\\partial relu}{\\partial z}  $\n",
    "6. $ \\frac{dL}{dW2} = \\scriptsize A1^T . \\frac{dL}{dZ2}, \\frac{dL}{db2} = \\frac{dL}{dZ2} $\n",
    "7. $ \\frac{dL}{dA1} = \\frac{dL}{dZ1} . \\scriptsize W2^{T} $\n",
    "8. $ \\frac{dL}{dZ1} = \\frac{dL}{dA1}*\\frac{dA2}{dZ1} = \\frac{dL}{dA1}*\\frac{d(g(Z1))}{d(Z)} = \\frac{dL}{dA1} * g'(\\scriptsize Z1) \\; where \\; g' = \\frac{\\partial sigmoid}{\\partial z}  $\n",
    "9. $ \\frac{dL}{dW1} = \\scriptsize X^T . \\frac{dL}{dZ1}, \\frac{dL}{db1} = \\frac{dL}{dZ1} $\n",
    "\n",
    "\n",
    "#### Summary:\n",
    "1. $ dA[-1] = gradient \\; of \\; output \\; (depend \\; on \\; cost \\; function) $\n",
    "2. $ dA[n-1] = dZ[n]. W^T $\n",
    "3. $ dZ[n] = dA[n] * g'(Z[n]) $\n",
    "4. $ dW[n] = dA[n-1] . dZ[n] $\n",
    "5. $ db[n] = sum(dZ[n], axis=0) $"
   ]
  },
  {
   "cell_type": "code",
   "execution_count": 7,
   "metadata": {
    "collapsed": true
   },
   "outputs": [],
   "source": [
    "def backward_prop(X, Y, parameters, cache, lr = 1.0, clip_norm=0.01):\n",
    "    m = X.shape[0]\n",
    "    \n",
    "    AL = cache['A3'] #output (activation of last layer) #(:,1)\n",
    "    dA3 = derviative_of_cross_entropy_loss(AL,Y) #(:,1)\n",
    "    \n",
    "    dZ3 = sigmoid_derivative(cache['Z3']) * dA3 #(:,1)\n",
    "    dW3 = np.dot( cache['A2'].T, dZ3 )/m        #(8,1)\n",
    "    db3 = np.sum(dZ3, axis=0, keepdims=True)/m  #(1,1)\n",
    "        \n",
    "    dA2 = np.dot( dZ3, parameters['W3'].T )     #(:,8)\n",
    "    \n",
    "    dZ2 = relu_derivative(cache['Z2']) * dA2    #(:,8)\n",
    "    dW2 = np.dot( cache['A1'].T, dZ2 )/m        #(16,8)\n",
    "    db2 = np.sum( dZ2, axis=0,keepdims=True)/m  #(1,8)\n",
    "    \n",
    "    dA1 = np.dot( dZ2, parameters['W2'].T )     #(:,16)\n",
    "    \n",
    "    dZ1 = relu_derivative(cache['Z1'] ) * dA1   #(:,16)\n",
    "    dW1 = np.dot( X.T, dZ1 )/m                  #(n,16)\n",
    "    db1 = np.sum( dZ1, axis=0,keepdims=True)/m  #(1,16)\n",
    "        \n",
    "    W1 = parameters['W1'] - np.clip(lr*dW1,-clip_norm,clip_norm) #clipping to avoid exploding gradient\n",
    "    W2 = parameters['W2'] - np.clip(lr*dW2,-clip_norm,clip_norm)\n",
    "    W3 = parameters['W3'] - np.clip(lr*dW3,-clip_norm,clip_norm)\n",
    "    b1 = parameters['b1'] - lr*db1\n",
    "    b2 = parameters['b2'] - lr*db2\n",
    "    b3 = parameters['b3'] - lr*db3\n",
    "    \n",
    "    return { 'W1':W1, 'b1':b1, 'W2':W2, 'b2':b2,'W3':W3,'b3':b3 }"
   ]
  },
  {
   "cell_type": "code",
   "execution_count": 8,
   "metadata": {},
   "outputs": [
    {
     "data": {
      "text/plain": [
       "<matplotlib.collections.PathCollection at 0x7f3a09ef3358>"
      ]
     },
     "execution_count": 8,
     "metadata": {},
     "output_type": "execute_result"
    },
    {
     "data": {
      "image/png": "[encoded data removed]",
      "text/plain": [
       "<matplotlib.figure.Figure at 0x7f3a0a165cf8>"
      ]
     },
     "metadata": {},
     "output_type": "display_data"
    }
   ],
   "source": [
    "def load_planar_dataset():\n",
    "    np.random.seed(1)\n",
    "    m = 400 # number of examples\n",
    "    N = int(m/2) # number of points per class\n",
    "    D = 2 # dimensionality\n",
    "    X = np.zeros((m,D)) # data matrix where each row is a single example\n",
    "    Y = np.zeros((m,1), dtype='uint8') # labels vector (0 for red, 1 for blue)\n",
    "    a = 4 # maximum ray of the flower\n",
    "    for j in range(2):\n",
    "        ix = range(N*j,N*(j+1))\n",
    "        t = np.linspace(j*3.12,(j+1)*3.12,N) + np.random.randn(N)*0.2 # theta\n",
    "        r = a*np.sin(4*t) + np.random.randn(N)*0.2 # radius\n",
    "        X[ix] = np.c_[r*np.sin(t), r*np.cos(t)]\n",
    "        Y[ix] = j\n",
    "    return X, Y\n",
    "X,Y = load_planar_dataset()\n",
    "plt.scatter( X[:,0],X[:,1], c=Y[:,0], s=40, cmap=plt.cm.Spectral)"
   ]
  },
  {
   "cell_type": "code",
   "execution_count": 9,
   "metadata": {},
   "outputs": [
    {
     "name": "stdout",
     "output_type": "stream",
     "text": [
      "Epoch :0, Cost : 4.352, Accuracy: 0.50\n",
      "Epoch :5, Cost : 2.070, Accuracy: 0.48\n",
      "Epoch :10, Cost : 1.050, Accuracy: 0.53\n",
      "Epoch :15, Cost : 0.750, Accuracy: 0.56\n",
      "Epoch :20, Cost : 0.663, Accuracy: 0.63\n",
      "Epoch :25, Cost : 0.611, Accuracy: 0.67\n",
      "Epoch :30, Cost : 0.576, Accuracy: 0.71\n",
      "Epoch :35, Cost : 0.550, Accuracy: 0.74\n",
      "Epoch :40, Cost : 0.530, Accuracy: 0.76\n",
      "Epoch :45, Cost : 0.515, Accuracy: 0.79\n",
      "Epoch :50, Cost : 0.502, Accuracy: 0.78\n",
      "Epoch :55, Cost : 0.490, Accuracy: 0.81\n",
      "Epoch :60, Cost : 0.478, Accuracy: 0.80\n",
      "Epoch :65, Cost : 0.468, Accuracy: 0.81\n",
      "Epoch :70, Cost : 0.458, Accuracy: 0.81\n",
      "Epoch :75, Cost : 0.448, Accuracy: 0.81\n",
      "Epoch :80, Cost : 0.439, Accuracy: 0.81\n",
      "Epoch :85, Cost : 0.431, Accuracy: 0.81\n",
      "Epoch :90, Cost : 0.423, Accuracy: 0.81\n",
      "Epoch :95, Cost : 0.415, Accuracy: 0.82\n",
      "Epoch :100, Cost : 0.408, Accuracy: 0.82\n",
      "Epoch :105, Cost : 0.401, Accuracy: 0.82\n",
      "Epoch :110, Cost : 0.395, Accuracy: 0.83\n",
      "Epoch :115, Cost : 0.389, Accuracy: 0.83\n",
      "Epoch :120, Cost : 0.383, Accuracy: 0.84\n",
      "Epoch :125, Cost : 0.377, Accuracy: 0.84\n",
      "Epoch :130, Cost : 0.372, Accuracy: 0.84\n",
      "Epoch :135, Cost : 0.367, Accuracy: 0.84\n",
      "Epoch :140, Cost : 0.363, Accuracy: 0.84\n",
      "Epoch :145, Cost : 0.359, Accuracy: 0.84\n",
      "Epoch :150, Cost : 0.355, Accuracy: 0.84\n",
      "Epoch :155, Cost : 0.351, Accuracy: 0.84\n",
      "Epoch :160, Cost : 0.348, Accuracy: 0.84\n",
      "Epoch :165, Cost : 0.344, Accuracy: 0.84\n",
      "Epoch :170, Cost : 0.341, Accuracy: 0.84\n",
      "Epoch :175, Cost : 0.337, Accuracy: 0.84\n",
      "Epoch :180, Cost : 0.334, Accuracy: 0.84\n",
      "Epoch :185, Cost : 0.331, Accuracy: 0.83\n",
      "Epoch :190, Cost : 0.328, Accuracy: 0.84\n",
      "Epoch :195, Cost : 0.326, Accuracy: 0.84\n",
      "Epoch :200, Cost : 0.323, Accuracy: 0.84\n",
      "Epoch :205, Cost : 0.321, Accuracy: 0.84\n",
      "Epoch :210, Cost : 0.319, Accuracy: 0.84\n",
      "Epoch :215, Cost : 0.317, Accuracy: 0.84\n",
      "Epoch :220, Cost : 0.315, Accuracy: 0.85\n",
      "Epoch :225, Cost : 0.314, Accuracy: 0.85\n",
      "Epoch :230, Cost : 0.312, Accuracy: 0.85\n",
      "Epoch :235, Cost : 0.310, Accuracy: 0.85\n",
      "Epoch :240, Cost : 0.309, Accuracy: 0.85\n",
      "Epoch :245, Cost : 0.307, Accuracy: 0.85\n",
      "Epoch :250, Cost : 0.306, Accuracy: 0.86\n",
      "Epoch :255, Cost : 0.304, Accuracy: 0.86\n",
      "Epoch :260, Cost : 0.303, Accuracy: 0.86\n",
      "Epoch :265, Cost : 0.302, Accuracy: 0.86\n",
      "Epoch :270, Cost : 0.301, Accuracy: 0.86\n",
      "Epoch :275, Cost : 0.300, Accuracy: 0.86\n",
      "Epoch :280, Cost : 0.298, Accuracy: 0.86\n",
      "Epoch :285, Cost : 0.297, Accuracy: 0.86\n",
      "Epoch :290, Cost : 0.296, Accuracy: 0.86\n",
      "Epoch :295, Cost : 0.295, Accuracy: 0.86\n",
      "Epoch :300, Cost : 0.294, Accuracy: 0.86\n",
      "Epoch :305, Cost : 0.294, Accuracy: 0.86\n",
      "Epoch :310, Cost : 0.293, Accuracy: 0.86\n",
      "Epoch :315, Cost : 0.292, Accuracy: 0.86\n",
      "Epoch :320, Cost : 0.291, Accuracy: 0.86\n",
      "Epoch :325, Cost : 0.290, Accuracy: 0.86\n",
      "Epoch :330, Cost : 0.289, Accuracy: 0.86\n",
      "Epoch :335, Cost : 0.289, Accuracy: 0.86\n",
      "Epoch :340, Cost : 0.288, Accuracy: 0.86\n",
      "Epoch :345, Cost : 0.287, Accuracy: 0.86\n",
      "Epoch :350, Cost : 0.287, Accuracy: 0.86\n",
      "Epoch :355, Cost : 0.286, Accuracy: 0.86\n",
      "Epoch :360, Cost : 0.285, Accuracy: 0.87\n",
      "Epoch :365, Cost : 0.285, Accuracy: 0.86\n",
      "Epoch :370, Cost : 0.284, Accuracy: 0.87\n",
      "Epoch :375, Cost : 0.283, Accuracy: 0.87\n",
      "Epoch :380, Cost : 0.283, Accuracy: 0.87\n",
      "Epoch :385, Cost : 0.282, Accuracy: 0.87\n",
      "Epoch :390, Cost : 0.282, Accuracy: 0.87\n",
      "Epoch :395, Cost : 0.281, Accuracy: 0.87\n",
      "Epoch :400, Cost : 0.280, Accuracy: 0.87\n",
      "Epoch :405, Cost : 0.280, Accuracy: 0.87\n",
      "Epoch :410, Cost : 0.279, Accuracy: 0.87\n",
      "Epoch :415, Cost : 0.279, Accuracy: 0.87\n",
      "Epoch :420, Cost : 0.278, Accuracy: 0.87\n",
      "Epoch :425, Cost : 0.278, Accuracy: 0.87\n",
      "Epoch :430, Cost : 0.277, Accuracy: 0.87\n",
      "Epoch :435, Cost : 0.277, Accuracy: 0.87\n",
      "Epoch :440, Cost : 0.276, Accuracy: 0.88\n",
      "Epoch :445, Cost : 0.276, Accuracy: 0.87\n",
      "Epoch :450, Cost : 0.275, Accuracy: 0.88\n",
      "Epoch :455, Cost : 0.275, Accuracy: 0.87\n",
      "Epoch :460, Cost : 0.274, Accuracy: 0.88\n",
      "Epoch :465, Cost : 0.274, Accuracy: 0.88\n",
      "Epoch :470, Cost : 0.273, Accuracy: 0.88\n",
      "Epoch :475, Cost : 0.273, Accuracy: 0.88\n",
      "Epoch :480, Cost : 0.272, Accuracy: 0.88\n",
      "Epoch :485, Cost : 0.271, Accuracy: 0.88\n",
      "Epoch :490, Cost : 0.271, Accuracy: 0.88\n",
      "Epoch :495, Cost : 0.270, Accuracy: 0.88\n"
     ]
    },
    {
     "data": {
      "text/plain": [
       "<matplotlib.collections.PathCollection at 0x7f3a089da940>"
      ]
     },
     "execution_count": 9,
     "metadata": {},
     "output_type": "execute_result"
    },
    {
     "data": {
      "image/png": "[encoded data removed]",
      "text/plain": [
       "<matplotlib.figure.Figure at 0x7f3a09ed8588>"
      ]
     },
     "metadata": {},
     "output_type": "display_data"
    }
   ],
   "source": [
    "parameters = initialize_two_hidden_layer_nn(2,16,8,1)\n",
    "for i in range(500):\n",
    "    AL,cache = forward_prop(X, parameters)\n",
    "    cost = cost_function(AL,Y)\n",
    "    acc = ((forward_prop(X,parameters)[0][:,0] > 0.5)*1==Y[:,0]).sum()/len(Y)\n",
    "    if i%5==0: print(f\"Epoch :{i}, Cost : {cost:.3f}, Accuracy: {acc:.2f}\")\n",
    "    parameters = backward_prop(X,Y,parameters,cache,lr=0.1)\n",
    "plt.scatter( X[:,0],X[:,1], c=(forward_prop(X,parameters)[0][:,0] > 0.5)*1, s=40, cmap=plt.cm.Spectral)"
   ]
  },
  {
   "cell_type": "markdown",
   "metadata": {
    "collapsed": true
   },
   "source": [
    "### Deriving BackPropogation"
   ]
  },
  {
   "cell_type": "markdown",
   "metadata": {},
   "source": [
    "![](images/NN.png)"
   ]
  },
  {
   "cell_type": "markdown",
   "metadata": {},
   "source": [
    "### Forward Propogation\n",
    "\n",
    "> here act = activation function, which is relu for hidden layer and sigmoid for final layer\n",
    "\n",
    "$ Z1 = X.W1 + b1  \\;\\;\\;\\;\\;\\;\\;\\;\\;\\;\\; $ {shape = (:,5)}\n",
    "\n",
    "$ A1 = act(Z1) \\;\\;\\;\\;\\;\\;\\;\\;\\;\\;\\;\\;\\;\\;\\;\\; $  {shape = (:,5)}\n",
    "\n",
    "$ Z2 = A1.W2 + b2 \\;\\;\\;\\;\\;\\;\\;\\;\\;\\; $ {shape = (:,3)}\n",
    "\n",
    "$ A2 = act(Z2) \\;\\;\\;\\;\\;\\;\\;\\;\\;\\;\\;\\;\\;\\;\\;\\;$ {shape = (:,3)}\n",
    "\n",
    "$ Z3 = A2.W3 + b3 \\;\\;\\;\\;\\;\\;\\;\\;\\;\\;$ {shape = (:,1)}\n",
    "\n",
    "$ \\hat y = act(Z3) \\;\\;\\;\\;\\;\\;\\;\\;\\;\\;\\;\\;\\;\\;\\;\\;\\;\\; $ {shape = (:,1)}"
   ]
  },
  {
   "cell_type": "markdown",
   "metadata": {},
   "source": [
    "### BackPropogation"
   ]
  },
  {
   "cell_type": "markdown",
   "metadata": {},
   "source": [
    "#### Firstly lets see different loss and its derivative wrt output\n",
    "\n",
    "> For cross entropy or binomial deviance loss\n",
    "\n",
    "$$ Loss(L) =  -Y log(\\hat y) - (1-Y) log(1-\\hat y) = -Y log(\\hat y) - log(1-\\hat y) + Ylog(1-\\hat y) $$"
   ]
  },
  {
   "cell_type": "markdown",
   "metadata": {},
   "source": [
    "$$ \\frac{\\partial L}{\\partial \\hat y} = -\\frac{Y}{\\hat y} - \\frac{-1}{1-\\hat y} + \\frac{-Y}{1-\\hat y} $$"
   ]
  },
  {
   "cell_type": "markdown",
   "metadata": {},
   "source": [
    "$$ \\frac{\\partial L}{\\partial \\hat y} = - \\bigg( \\frac{Y}{\\hat y} - \\frac{ 1-Y }{1-\\hat y}  \\bigg ) $$"
   ]
  },
  {
   "cell_type": "markdown",
   "metadata": {},
   "source": [
    "> For mean squared error Loss\n",
    "\n",
    "$$ Loss(L) = ( Y - \\hat y )^2 $$"
   ]
  },
  {
   "cell_type": "markdown",
   "metadata": {},
   "source": [
    "\n",
    "$$ \\frac{\\partial L}{\\partial \\hat y} = -2 (Y - \\hat y) $$"
   ]
  },
  {
   "cell_type": "markdown",
   "metadata": {},
   "source": [
    "#### Now, lets do backward propogation"
   ]
  },
  {
   "cell_type": "markdown",
   "metadata": {},
   "source": [
    "$$ \\frac{\\partial L}{ \\partial Z3 } = \\frac{\\partial L}{\\partial \\hat y} . \\frac{ \\partial \\hat y }{\\partial Z3}  = \\frac{\\partial L}{\\partial \\hat y} \\odot act'(Z3) $$"
   ]
  },
  {
   "cell_type": "markdown",
   "metadata": {},
   "source": [
    "$\\odot$ - Hadamard or entrywise product, two matrices of the same dimensions and produces another matrix of the same dimension"
   ]
  },
  {
   "cell_type": "markdown",
   "metadata": {},
   "source": [
    "> Gradient of Loss wrt W3 and b3"
   ]
  },
  {
   "cell_type": "markdown",
   "metadata": {},
   "source": [
    "$$ \\frac{\\partial L}{\\partial W3} = \\frac{\\partial L}{\\partial Z3}. \\frac{\\partial Z3}{\\partial W3} = A2^T . \\frac{\\partial L}{\\partial Z3} $$"
   ]
  },
  {
   "cell_type": "markdown",
   "metadata": {},
   "source": [
    "$$ \\frac{\\partial L}{\\partial b3} = \\frac{\\partial L}{\\partial Z3}. \\frac{\\partial Z3}{\\partial b3} = \\frac{\\partial L}{\\partial Z3}$$"
   ]
  },
  {
   "cell_type": "markdown",
   "metadata": {},
   "source": [
    "> Subtract these gradient from W3 and b3 to optimize"
   ]
  },
  {
   "cell_type": "markdown",
   "metadata": {},
   "source": [
    "$$ \\frac{\\partial L}{\\partial A2} = \\frac{\\partial L}{\\partial Z3 } . \\frac{\\partial Z3}{\\partial A2} = \\frac{\\partial L}{\\partial Z3 }. W3^T $$"
   ]
  },
  {
   "cell_type": "markdown",
   "metadata": {},
   "source": [
    "$$ \\frac{\\partial L}{ \\partial Z2 } = \\frac{\\partial L}{\\partial A2} . \\frac{ \\partial A2 }{\\partial Z2}  = \\frac{\\partial L}{\\partial A2} \\odot act'(Z2) $$\n"
   ]
  },
  {
   "cell_type": "markdown",
   "metadata": {},
   "source": [
    "> Gradient of Loss wrt W2 and b2"
   ]
  },
  {
   "cell_type": "markdown",
   "metadata": {},
   "source": [
    "$$ \\frac{\\partial L}{\\partial W2} = \\frac{\\partial L}{\\partial Z2}. \\frac{\\partial Z2}{\\partial W2} = A1^T.\\frac{\\partial L}{\\partial Z2} $$"
   ]
  },
  {
   "cell_type": "markdown",
   "metadata": {},
   "source": [
    "$$ \\frac{\\partial L}{\\partial b2} = \\frac{\\partial L}{\\partial Z2}. \\frac{\\partial Z2}{\\partial b2} = \\frac{\\partial L}{\\partial Z2}$$"
   ]
  },
  {
   "cell_type": "markdown",
   "metadata": {},
   "source": [
    "> Subtract these gradient from W2 and b2 to optimize"
   ]
  },
  {
   "cell_type": "markdown",
   "metadata": {},
   "source": [
    "$$ \\frac{\\partial L}{\\partial A1} = \\frac{\\partial L}{\\partial Z2 } . \\frac{\\partial Z2}{\\partial A1} = \\frac{\\partial L}{\\partial Z2 }. W2^T $$"
   ]
  },
  {
   "cell_type": "markdown",
   "metadata": {},
   "source": [
    "$$ \\frac{\\partial L}{ \\partial Z1 } = \\frac{\\partial L}{\\partial A1} . \\frac{ \\partial A1 }{\\partial Z1}  = \\frac{\\partial L}{\\partial A1} \\odot act'(Z1) $$"
   ]
  },
  {
   "cell_type": "markdown",
   "metadata": {},
   "source": [
    "> Gradient of Loss wrt W1 and b1"
   ]
  },
  {
   "cell_type": "markdown",
   "metadata": {},
   "source": [
    "$$ \\frac{\\partial L}{\\partial W1} = \\frac{\\partial L}{\\partial Z1}. \\frac{\\partial Z1}{\\partial W1} = X^T . \\frac{\\partial L}{\\partial Z1} $$"
   ]
  },
  {
   "cell_type": "markdown",
   "metadata": {},
   "source": [
    "$$ \\frac{\\partial L}{\\partial b1} = \\frac{\\partial L}{\\partial Z1}. \\frac{\\partial Z1}{\\partial b1} = \\frac{\\partial L}{\\partial Z1}$$"
   ]
  },
  {
   "cell_type": "markdown",
   "metadata": {},
   "source": [
    "> Subtract these gradient from W1 and b1 to optimize"
   ]
  },
  {
   "cell_type": "markdown",
   "metadata": {},
   "source": [
    "#### Gradient of Activation Functions"
   ]
  },
  {
   "cell_type": "markdown",
   "metadata": {},
   "source": [
    "#### For Sigmoid"
   ]
  },
  {
   "cell_type": "markdown",
   "metadata": {},
   "source": [
    "$$ sigmoid(z) = \\frac{e^z}{1+e^z} $$"
   ]
  },
  {
   "cell_type": "markdown",
   "metadata": {},
   "source": [
    "\n",
    "$$ \\frac{d}{dz} sigmoid(z) = \\frac{e^z}{1+e^z} + e^z\\frac{ -e^z }{ (1+e^z)^2 }  $$"
   ]
  },
  {
   "cell_type": "markdown",
   "metadata": {},
   "source": [
    "$$ \\frac{d}{dz} sigmoid(z) = \\frac{e^z}{1+e^z} \\bigg( 1 - \\frac{e^z}{1+e^z} \\bigg) = sigmoid(z)\\big(1-sigmoid(z)\\big) $$"
   ]
  },
  {
   "cell_type": "markdown",
   "metadata": {},
   "source": [
    "#### For ReLU"
   ]
  },
  {
   "cell_type": "markdown",
   "metadata": {},
   "source": [
    "$$   relu(z) =\n",
    "\\begin{cases}\n",
    "z,  & \\text{if z > 0} \\\\\n",
    "0, & \\text{if z $\\le$ 0}\n",
    "\\end{cases} $$"
   ]
  },
  {
   "cell_type": "markdown",
   "metadata": {},
   "source": [
    "$$   \\frac{d}{dz}relu(z) =\n",
    "\\begin{cases}\n",
    "1,  & \\text{if z > 0} \\\\\n",
    "0, & \\text{if z $\\le$ 0}\n",
    "\\end{cases} $$"
   ]
  },
  {
   "cell_type": "markdown",
   "metadata": {},
   "source": [
    "### Summary"
   ]
  },
  {
   "cell_type": "markdown",
   "metadata": {},
   "source": [
    "> **Error in last layer,** $$ \\delta^L = \\nabla C \\odot \\sigma'(z^L)$$"
   ]
  },
  {
   "cell_type": "markdown",
   "metadata": {},
   "source": [
    "> **Error in hidden Layer,** $$ \\delta^l = \\big(\\delta^{l+1} (W^{l+1})^T\\big) \\odot \\sigma'(z^l) $$"
   ]
  },
  {
   "cell_type": "markdown",
   "metadata": {},
   "source": [
    "> **Gradient of Cost wrt weights of l layer,** $$ \\frac{\\partial C}{\\partial W^l} = (A^{l-1})^T \\delta^l   $$"
   ]
  },
  {
   "cell_type": "markdown",
   "metadata": {},
   "source": [
    "> **Gradient of Cost wrt bias in l layer,** $$ \\frac{\\partial C}{\\partial b^l} = \\delta^l   $$"
   ]
  },
  {
   "cell_type": "code",
   "execution_count": null,
   "metadata": {
    "collapsed": true
   },
   "outputs": [],
   "source": []
  }
 ],
 "metadata": {
  "kernelspec": {
   "display_name": "Python 3",
   "language": "python",
   "name": "python3"
  },
  "language_info": {
   "codemirror_mode": {
    "name": "ipython",
    "version": 3
   },
   "file_extension": ".py",
   "mimetype": "text/x-python",
   "name": "python",
   "nbconvert_exporter": "python",
   "pygments_lexer": "ipython3",
   "version": "3.6.3"
  }
 },
 "nbformat": 4,
 "nbformat_minor": 2
}
