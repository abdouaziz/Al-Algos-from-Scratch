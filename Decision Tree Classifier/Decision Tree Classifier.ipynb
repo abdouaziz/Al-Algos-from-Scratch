{
 "cells": [
  {
   "cell_type": "markdown",
   "metadata": {},
   "source": [
    "# Decision Trees\n",
    "Decision Trees are ML algorithms that progressively divide data sets into smaller data groups based on a descriptive feature, until they reach sets that are small enough to be described by some label.\n",
    "\n",
    "### Main DT Algorithms\n",
    "####  1. CHAID - Chi-squared Automatic Interaction Detection\n",
    "When building **classification trees**, CHAID relies on chi-squared tests to find the best split at each step. In other words, it chooses the independent variable that has the strongest interaction with the dependent variable. For **regression trees**, CHAID relies on F-tests to calculate the difference between two population means.\n",
    "\n",
    "#### 2. CART - Classification And Regression Trees\n",
    "In the case of **Classification Trees**, CART algorithm uses a metric called **Gini Impurity** to create decision points for classification tasks. Gini Impurity gives an idea of how fine a split is. In the case of **Regression Trees**, CART algorithm looks for splits that minimize the **Least Square Deviation (LSD)**, choosing the partitions that minimize the result over all possible options. The LSD (sometimes referred as “variance reduction”) metric minimizes the sum of the squared distances (or deviations) between the observed values and the predicted values.\n",
    "\n",
    "#### 3. ID3 - Iterative Dichotomiser 3\n",
    "It is mostly used for classification tasks. ID3 splits data attributes (dichotomizes) to find the most dominant features, performing this process iteratively to select the DT nodes in a top-down approach. For the splitting process, ID3 uses the **Information Gain** metric to select the most useful attributes for classification. Information Gain is directly linked to the concept of **Entropy**, which is the measure of the amount of uncertainty or randomness in the data.\n",
    "\n",
    "#### 4. C 4.5 \n",
    "It is successor of ID3. C4.5 can handle both continuous and categorical data, making it suitable to generate Regression and Classification Trees. Additionally, it can deal with missing values by ignoring instances that include non-existing data. Unlike ID3, C4.5 uses **Gain Ratio** for its splitting process. Gain Ratio is a modification of the Information Gain concept that reduces the bias on DTs. Another capability of C4.5 is that it can prune DTs."
   ]
  },
  {
   "cell_type": "code",
   "execution_count": 1,
   "metadata": {
    "collapsed": true
   },
   "outputs": [],
   "source": [
    "import numpy as np\n",
    "import pandas as pd\n",
    "import matplotlib.pyplot as plt\n",
    "%matplotlib inline"
   ]
  },
  {
   "cell_type": "markdown",
   "metadata": {},
   "source": [
    "### Here we will implement CART algorithm for classification task\n",
    "#### Important points\n",
    "1. The representation of the CART model is a binary tree.\n",
    "2. For regression, The cost function that is minimized to choose split points is the sum squared error across all training samples that fall within the rectangle.\n",
    "3. For classification, The Gini cost function is used which provides an indication of how pure the nodes are, where node purity refers to how mixed the training data assigned to each node is."
   ]
  },
  {
   "cell_type": "markdown",
   "metadata": {},
   "source": [
    "### 1. Gini Index\n",
    "* Name of the cost function used to evaluate splits in the dataset.\n",
    "* Performs only binary splits\n",
    "* Higher the value of Gini higher the homogeneity. A perfect separation results in a Gini score of 0, whereas the worst case split that results in 50/50 classes in each group result in a Gini score of 0.5\n",
    "\n",
    "**Steps to calculate Gini**:\n",
    "1. Calculate Gini for sub-nodes, using formula sum of square of probability.\n",
    "2. Calculate Gini for split using weighted Gini score of each node of that split\n",
    "\n",
    "$$ Gini\\;for\\;subgroup = 1 - \\sum p^2 $$\n",
    "$$ where \\; p = probability\\;of\\;each\\;class $$\n",
    "\n",
    "\n",
    "$$ Gini\\;for\\;split = \\sum Gini\\;for\\;subgroup * \\frac{subgroup\\;size}{total\\;size} $$\n",
    "\n"
   ]
  },
  {
   "cell_type": "markdown",
   "metadata": {},
   "source": [
    "### 2. Terminal Node\n",
    "When to decide to stop growing the tree\n",
    "\n",
    "**Maximum Tree Depth** : This is the maximum number of nodes from the root node of the tree. Once a maximum depth of the tree is met, we must stop splitting adding new nodes. Deeper trees are more complex and are more likely to overfit the training data.\n",
    "\n",
    "**Minimum Node Records** :  This is the minimum number of training patterns that a given node is responsible for. Once at or below this minimum, we must stop splitting and adding new nodes. Nodes that account for too few training patterns are expected to be too specific and are likely to overfit the training data.\n",
    "\n",
    "There is one more condition. It is possible to choose a split in which all rows belong to one group. In this case, we will be unable to continue splitting and adding child nodes as we will have no records to split on one side or another.\n",
    "\n",
    "Now we have some ideas of when to stop growing the tree. When we do stop growing at a given point, that node is called a terminal node and is used to make a final prediction.\n",
    "\n",
    "This is done by taking the group of rows assigned to that node and selecting the most common class value in the group. This will be used to make predictions."
   ]
  },
  {
   "cell_type": "code",
   "execution_count": 2,
   "metadata": {},
   "outputs": [],
   "source": [
    "class DecisionTreeClassifier():\n",
    "    def __init__(self):\n",
    "        self.root = None\n",
    "        self.tree_depth = 0\n",
    "        self.X = None\n",
    "        self.y = None\n",
    "    \n",
    "    def gini_index(self,groups, y):\n",
    "        n_instances = len(groups[0])+len(groups[1])  # count of all samples\n",
    "        gini = 0.0 # sum weighted Gini index for each group\n",
    "        for indexes in groups:\n",
    "            size = len(indexes)\n",
    "            if size == 0: continue # avoid divide by zero\n",
    "            score = 0.0\n",
    "            # score the group based on the score for each class\n",
    "            for class_val in np.unique(y):\n",
    "                p = (y[indexes]==class_val).sum()/size \n",
    "                score += p*p\n",
    "            # weight the group score by its relative size\n",
    "            gini +=  (1-score) * (size / n_instances)\n",
    "        return gini\n",
    "    \n",
    "    def get_split(self,X,y):\n",
    "        b_index, b_value, b_score, b_groups = float('inf'), float('inf'), float('inf'), None\n",
    "        for col_ind in range(X.shape[1]): #for each features\n",
    "            for val in np.unique(X[:,col_ind]): #for each unique value of that feature\n",
    "\n",
    "                #left_index indexes lower than val for feature, right_index indexes greater that val for feature\n",
    "                left_index, right_index = np.argwhere(X[:,col_ind]<val), np.argwhere(X[:,col_ind]>=val)\n",
    "                \n",
    "                #remove redundant axis\n",
    "                left_index = np.squeeze(left_index,axis=1) if len(left_index.shape)>1 else left_index\n",
    "                right_index = np.squeeze(right_index,axis=1) if len(right_index.shape)>1 else right_index\n",
    "                \n",
    "                #find gini index\n",
    "                gini = self.gini_index((left_index,right_index), y)\n",
    "                if gini < b_score:\n",
    "                    b_index, b_value, b_score, b_groups = col_ind, val, gini, (left_index, right_index)\n",
    "\n",
    "        return {'index':b_index, 'value':b_value, 'groups':b_groups}\n",
    "    \n",
    "    \n",
    "    def to_terminal(self,classes):\n",
    "        # Create a terminal node value\n",
    "        cls,cnt = np.unique(classes,return_counts=True) \n",
    "        return cls[np.argmax(cnt)]\n",
    "    \n",
    "    def split(self, node, X, y, max_depth, min_samples_split, depth):\n",
    "        self.tree_depth = max(depth,self.tree_depth)\n",
    "        left, right = node['groups']\n",
    "        del node['groups']\n",
    "        \n",
    "        # check for a no split\n",
    "        if len(left)==0 or len(right)==0:\n",
    "            node['left'] = node['right'] = self.to_terminal(y[np.append(left,right)])\n",
    "            return\n",
    "        \n",
    "        # check for max depth\n",
    "        if depth >= max_depth:\n",
    "            node['left'], node['right'] = self.to_terminal(y[left]), self.to_terminal(y[right])\n",
    "            return\n",
    "        \n",
    "        # process left child\n",
    "        if len(left) <= min_samples_split:\n",
    "            node['left'] = self.to_terminal(y[left])\n",
    "        else:\n",
    "            node['left'] = self.get_split(X[left],y[left])\n",
    "            self.split(node['left'], X[left], y[left], max_depth, min_samples_split, depth+1)\n",
    "        \n",
    "        # process right child\n",
    "        if len(right) <= min_samples_split:\n",
    "            node['right'] = self.to_terminal(y[right])\n",
    "        else:\n",
    "            node['right'] = self.get_split(X[right],y[right])\n",
    "            self.split(node['right'],X[right],y[right], max_depth, min_samples_split, depth+1)\n",
    "                \n",
    "    def fit(self,X,y, max_depth=None, min_samples_split=2):\n",
    "        self.X, self.y, max_depth = X, y, float('inf') if max_depth==None else max_depth\n",
    "        self.root = self.get_split(X,y)\n",
    "        self.split(self.root, X, y, max_depth, min_samples_split,1)\n",
    "        \n",
    "    def predict(self,rows):\n",
    "        return np.array([ self.predict_row(row,self.root) for row in rows ])\n",
    "        \n",
    "    def predict_row(self,row,node):\n",
    "        if row[node['index']] < node['value']:\n",
    "            if isinstance(node['left'], dict):  return self.predict_row(row,node['left'])\n",
    "            else: return node['left']\n",
    "        else:\n",
    "            if isinstance(node['right'], dict): return self.predict_row(row,node['right'])\n",
    "            else: return node['right']\n",
    "            \n",
    "    def score(self,X,y): \n",
    "        return (y==self.predict(X)).sum()/len(y)\n",
    "    \n",
    "    @property \n",
    "    def max_depth(self): return self.tree_depth\n",
    "    \n",
    "    @property \n",
    "    def tree_(self): return self.root"
   ]
  },
  {
   "cell_type": "markdown",
   "metadata": {},
   "source": [
    "### Case Study : Banknote"
   ]
  },
  {
   "cell_type": "code",
   "execution_count": 3,
   "metadata": {},
   "outputs": [
    {
     "data": {
      "text/html": [
       "<div>\n",
       "<style scoped>\n",
       "    .dataframe tbody tr th:only-of-type {\n",
       "        vertical-align: middle;\n",
       "    }\n",
       "\n",
       "    .dataframe tbody tr th {\n",
       "        vertical-align: top;\n",
       "    }\n",
       "\n",
       "    .dataframe thead th {\n",
       "        text-align: right;\n",
       "    }\n",
       "</style>\n",
       "<table border=\"1\" class=\"dataframe\">\n",
       "  <thead>\n",
       "    <tr style=\"text-align: right;\">\n",
       "      <th></th>\n",
       "      <th>Variance of Wavelet Transformed Image</th>\n",
       "      <th>Skewnes of Wavelet Transformed Image</th>\n",
       "      <th>Curtosis of Wavelet Transformed Image</th>\n",
       "      <th>Entropy of Image</th>\n",
       "      <th>Class</th>\n",
       "    </tr>\n",
       "  </thead>\n",
       "  <tbody>\n",
       "    <tr>\n",
       "      <th>1133</th>\n",
       "      <td>-2.0046</td>\n",
       "      <td>-0.49457</td>\n",
       "      <td>1.3330</td>\n",
       "      <td>1.6543</td>\n",
       "      <td>1</td>\n",
       "    </tr>\n",
       "    <tr>\n",
       "      <th>67</th>\n",
       "      <td>2.4235</td>\n",
       "      <td>9.53320</td>\n",
       "      <td>-3.0789</td>\n",
       "      <td>-2.7746</td>\n",
       "      <td>0</td>\n",
       "    </tr>\n",
       "    <tr>\n",
       "      <th>468</th>\n",
       "      <td>4.5707</td>\n",
       "      <td>7.20940</td>\n",
       "      <td>-3.2794</td>\n",
       "      <td>-1.4944</td>\n",
       "      <td>0</td>\n",
       "    </tr>\n",
       "    <tr>\n",
       "      <th>308</th>\n",
       "      <td>4.6160</td>\n",
       "      <td>10.17880</td>\n",
       "      <td>-4.2185</td>\n",
       "      <td>-4.4245</td>\n",
       "      <td>0</td>\n",
       "    </tr>\n",
       "    <tr>\n",
       "      <th>828</th>\n",
       "      <td>-2.5912</td>\n",
       "      <td>-0.10554</td>\n",
       "      <td>1.2798</td>\n",
       "      <td>1.0414</td>\n",
       "      <td>1</td>\n",
       "    </tr>\n",
       "  </tbody>\n",
       "</table>\n",
       "</div>"
      ],
      "text/plain": [
       "      Variance of Wavelet Transformed Image  \\\n",
       "1133                                -2.0046   \n",
       "67                                   2.4235   \n",
       "468                                  4.5707   \n",
       "308                                  4.6160   \n",
       "828                                 -2.5912   \n",
       "\n",
       "      Skewnes of Wavelet Transformed Image  \\\n",
       "1133                              -0.49457   \n",
       "67                                 9.53320   \n",
       "468                                7.20940   \n",
       "308                               10.17880   \n",
       "828                               -0.10554   \n",
       "\n",
       "      Curtosis of Wavelet Transformed Image  Entropy of Image  Class  \n",
       "1133                                 1.3330            1.6543      1  \n",
       "67                                  -3.0789           -2.7746      0  \n",
       "468                                 -3.2794           -1.4944      0  \n",
       "308                                 -4.2185           -4.4245      0  \n",
       "828                                  1.2798            1.0414      1  "
      ]
     },
     "execution_count": 3,
     "metadata": {},
     "output_type": "execute_result"
    }
   ],
   "source": [
    "data = pd.read_csv('data_banknote.txt',header=None,\n",
    "                   names=[ 'Variance of Wavelet Transformed Image', 'Skewnes of Wavelet Transformed Image',\n",
    "                            'Curtosis of Wavelet Transformed Image','Entropy of Image','Class'])\n",
    "data = data.sample(frac=1)\n",
    "data.head()"
   ]
  },
  {
   "cell_type": "code",
   "execution_count": 4,
   "metadata": {},
   "outputs": [
    {
     "data": {
      "text/plain": [
       "((961, 4), (411, 4), (961,), (411,))"
      ]
     },
     "execution_count": 4,
     "metadata": {},
     "output_type": "execute_result"
    }
   ],
   "source": [
    "def train_test_split(X,y,test_size=0.3):\n",
    "    indexes = np.random.choice( [False,True], len(y), p=[test_size,1-test_size], replace=True )\n",
    "    return X[indexes],X[~indexes],y[indexes],y[~indexes]\n",
    "\n",
    "X = data.drop('Class',axis=1).values\n",
    "y = data.Class.values\n",
    "\n",
    "X_train,X_val,Y_train,Y_val = train_test_split(X,y)\n",
    "X_train.shape,X_val.shape,Y_train.shape,Y_val.shape"
   ]
  },
  {
   "cell_type": "code",
   "execution_count": 5,
   "metadata": {},
   "outputs": [],
   "source": [
    "dt = DecisionTreeClassifier()\n",
    "dt.fit(X_train,Y_train)"
   ]
  },
  {
   "cell_type": "code",
   "execution_count": 6,
   "metadata": {},
   "outputs": [
    {
     "data": {
      "text/plain": [
       "(0.975669099756691, 9)"
      ]
     },
     "execution_count": 6,
     "metadata": {},
     "output_type": "execute_result"
    }
   ],
   "source": [
    "dt.score(X_val,Y_val),dt.max_depth"
   ]
  },
  {
   "cell_type": "markdown",
   "metadata": {},
   "source": [
    "### Case Study : Iris dataset"
   ]
  },
  {
   "cell_type": "code",
   "execution_count": 7,
   "metadata": {},
   "outputs": [
    {
     "data": {
      "text/html": [
       "<div>\n",
       "<style scoped>\n",
       "    .dataframe tbody tr th:only-of-type {\n",
       "        vertical-align: middle;\n",
       "    }\n",
       "\n",
       "    .dataframe tbody tr th {\n",
       "        vertical-align: top;\n",
       "    }\n",
       "\n",
       "    .dataframe thead th {\n",
       "        text-align: right;\n",
       "    }\n",
       "</style>\n",
       "<table border=\"1\" class=\"dataframe\">\n",
       "  <thead>\n",
       "    <tr style=\"text-align: right;\">\n",
       "      <th></th>\n",
       "      <th>Sepal length</th>\n",
       "      <th>Sepal width</th>\n",
       "      <th>Petal length</th>\n",
       "      <th>Petal Width</th>\n",
       "      <th>Class</th>\n",
       "    </tr>\n",
       "  </thead>\n",
       "  <tbody>\n",
       "    <tr>\n",
       "      <th>48</th>\n",
       "      <td>5.3</td>\n",
       "      <td>3.7</td>\n",
       "      <td>1.5</td>\n",
       "      <td>0.2</td>\n",
       "      <td>0</td>\n",
       "    </tr>\n",
       "    <tr>\n",
       "      <th>143</th>\n",
       "      <td>6.8</td>\n",
       "      <td>3.2</td>\n",
       "      <td>5.9</td>\n",
       "      <td>2.3</td>\n",
       "      <td>2</td>\n",
       "    </tr>\n",
       "    <tr>\n",
       "      <th>84</th>\n",
       "      <td>5.4</td>\n",
       "      <td>3.0</td>\n",
       "      <td>4.5</td>\n",
       "      <td>1.5</td>\n",
       "      <td>1</td>\n",
       "    </tr>\n",
       "    <tr>\n",
       "      <th>108</th>\n",
       "      <td>6.7</td>\n",
       "      <td>2.5</td>\n",
       "      <td>5.8</td>\n",
       "      <td>1.8</td>\n",
       "      <td>2</td>\n",
       "    </tr>\n",
       "    <tr>\n",
       "      <th>42</th>\n",
       "      <td>4.4</td>\n",
       "      <td>3.2</td>\n",
       "      <td>1.3</td>\n",
       "      <td>0.2</td>\n",
       "      <td>0</td>\n",
       "    </tr>\n",
       "  </tbody>\n",
       "</table>\n",
       "</div>"
      ],
      "text/plain": [
       "     Sepal length  Sepal width  Petal length  Petal Width  Class\n",
       "48            5.3          3.7           1.5          0.2      0\n",
       "143           6.8          3.2           5.9          2.3      2\n",
       "84            5.4          3.0           4.5          1.5      1\n",
       "108           6.7          2.5           5.8          1.8      2\n",
       "42            4.4          3.2           1.3          0.2      0"
      ]
     },
     "execution_count": 7,
     "metadata": {},
     "output_type": "execute_result"
    }
   ],
   "source": [
    "data = pd.read_csv('iris.data',header=None,names=['Sepal length','Sepal width', 'Petal length', 'Petal Width', 'Class'])\n",
    "data.Class.replace({'Iris-setosa':0,'Iris-versicolor':1,'Iris-virginica':2},inplace=True)\n",
    "data = data.sample(frac=1)\n",
    "data.head()"
   ]
  },
  {
   "cell_type": "code",
   "execution_count": 8,
   "metadata": {},
   "outputs": [
    {
     "data": {
      "text/plain": [
       "((108, 4), (42, 4), (108,), (42,))"
      ]
     },
     "execution_count": 8,
     "metadata": {},
     "output_type": "execute_result"
    }
   ],
   "source": [
    "def train_test_split(X,y,test_size=0.3):\n",
    "    indexes = np.random.choice( [False,True], len(y), p=[test_size,1-test_size], replace=True )\n",
    "    return X[indexes],X[~indexes],y[indexes],y[~indexes]\n",
    "\n",
    "X = data.drop('Class',axis=1).values\n",
    "y = data.Class.values\n",
    "\n",
    "X_train,X_val,Y_train,Y_val = train_test_split(X,y)\n",
    "X_train.shape,X_val.shape,Y_train.shape,Y_val.shape"
   ]
  },
  {
   "cell_type": "code",
   "execution_count": 9,
   "metadata": {},
   "outputs": [
    {
     "data": {
      "text/plain": [
       "(array([0, 1, 2]), array([14, 14, 14]))"
      ]
     },
     "execution_count": 9,
     "metadata": {},
     "output_type": "execute_result"
    }
   ],
   "source": [
    "np.unique(Y_val,return_counts=True)"
   ]
  },
  {
   "cell_type": "code",
   "execution_count": 10,
   "metadata": {},
   "outputs": [],
   "source": [
    "dt = DecisionTreeClassifier()\n",
    "dt.fit(X_train,Y_train,max_depth=4)"
   ]
  },
  {
   "cell_type": "code",
   "execution_count": 11,
   "metadata": {},
   "outputs": [
    {
     "ename": "AttributeError",
     "evalue": "'DecisionTreeClassifier' object has no attribute 'depth'",
     "output_type": "error",
     "traceback": [
      "\u001b[0;31m---------------------------------------------------------------------------\u001b[0m",
      "\u001b[0;31mAttributeError\u001b[0m                            Traceback (most recent call last)",
      "\u001b[0;32m<ipython-input-11-3e2b945c389f>\u001b[0m in \u001b[0;36m<module>\u001b[0;34m()\u001b[0m\n\u001b[0;32m----> 1\u001b[0;31m \u001b[0mdt\u001b[0m\u001b[0;34m.\u001b[0m\u001b[0mscore\u001b[0m\u001b[0;34m(\u001b[0m\u001b[0mX_val\u001b[0m\u001b[0;34m,\u001b[0m\u001b[0mY_val\u001b[0m\u001b[0;34m)\u001b[0m\u001b[0;34m,\u001b[0m\u001b[0mdt\u001b[0m\u001b[0;34m.\u001b[0m\u001b[0mdepth\u001b[0m\u001b[0;34m\u001b[0m\u001b[0m\n\u001b[0m",
      "\u001b[0;31mAttributeError\u001b[0m: 'DecisionTreeClassifier' object has no attribute 'depth'"
     ]
    }
   ],
   "source": [
    "dt.score(X_val,Y_val),dt.depth"
   ]
  },
  {
   "cell_type": "code",
   "execution_count": null,
   "metadata": {
    "collapsed": true
   },
   "outputs": [],
   "source": []
  }
 ],
 "metadata": {
  "kernelspec": {
   "display_name": "Python 3",
   "language": "python",
   "name": "python3"
  },
  "language_info": {
   "codemirror_mode": {
    "name": "ipython",
    "version": 3
   },
   "file_extension": ".py",
   "mimetype": "text/x-python",
   "name": "python",
   "nbconvert_exporter": "python",
   "pygments_lexer": "ipython3",
   "version": "3.6.3"
  }
 },
 "nbformat": 4,
 "nbformat_minor": 2
}
