{
 "cells": [
  {
   "cell_type": "code",
   "execution_count": 1,
   "metadata": {
    "collapsed": true
   },
   "outputs": [],
   "source": [
    "import numpy as np\n",
    "import pandas as pd\n",
    "np.random.seed(5)"
   ]
  },
  {
   "cell_type": "code",
   "execution_count": 2,
   "metadata": {},
   "outputs": [
    {
     "data": {
      "text/plain": [
       "((100, 4), (100, 1))"
      ]
     },
     "execution_count": 2,
     "metadata": {},
     "output_type": "execute_result"
    }
   ],
   "source": [
    "iris = pd.read_csv('Iris.csv')\n",
    "iris.drop('Id',axis=1,inplace=True)\n",
    "iris.Species.replace({'Iris-virginica':0,'Iris-versicolor':1,'Iris-setosa':2},inplace=True)\n",
    "iris = iris[iris.Species.isin([0,1])]\n",
    "iris = iris.sample(frac=1)\n",
    "cols = iris.columns\n",
    "X,Y = iris[cols[:-1]].values,np.expand_dims(iris[cols[-1]].values,axis=-1)\n",
    "X.shape,Y.shape"
   ]
  },
  {
   "cell_type": "code",
   "execution_count": 3,
   "metadata": {
    "collapsed": true
   },
   "outputs": [],
   "source": [
    "def sigmoid(z):\n",
    "    return 1/(1+np.exp(-z))\n",
    "\n",
    "def sigmoid_derivative(z):\n",
    "    s = sigmoid(z)\n",
    "    return s*(1-s)"
   ]
  },
  {
   "cell_type": "code",
   "execution_count": 4,
   "metadata": {
    "collapsed": true
   },
   "outputs": [],
   "source": [
    "def initialize_weights_and_bais(n):\n",
    "    W = np.random.randn(n,1) #(n,1)\n",
    "    b = 0\n",
    "    return W,b"
   ]
  },
  {
   "cell_type": "code",
   "execution_count": 5,
   "metadata": {
    "collapsed": true
   },
   "outputs": [],
   "source": [
    "def cost_function(p,Y):\n",
    "    \"cross entropy loss\"\n",
    "    m = len(Y)\n",
    "    loss = -( Y*np.log(p) + (1-Y)*np.log(1-p) )\n",
    "    cost = np.sum(loss)/m\n",
    "    return cost"
   ]
  },
  {
   "cell_type": "markdown",
   "metadata": {},
   "source": [
    "1. $ probs(p) = \\sigma( X.W + b ) $\n",
    "2. $ cost(J) = -{(y\\log(p) + (1 - y)\\log(1 - p))} $\n",
    "3. $ \\large \\frac{dJ}{dw} = \\frac{1}{m} \\small (X^{T} . (p-Y)) $\n",
    "4. $ \\large \\frac{dJ}{db} = \\frac{1}{m} \\small \\sum (p-Y) $"
   ]
  },
  {
   "cell_type": "code",
   "execution_count": 6,
   "metadata": {
    "collapsed": true
   },
   "outputs": [],
   "source": [
    "def get_probs(X,W,b):\n",
    "    return sigmoid( np.dot(X,W)+b )\n",
    "\n",
    "def optimize(W,b,X,Y,lr=0.01,lmda=0.1):\n",
    "    \"\"\"\n",
    "    W = weights\n",
    "    b = bias\n",
    "    lr = learning rate\n",
    "    lmda = regularization parameter\n",
    "    \"\"\"\n",
    "    m = len(Y)\n",
    "    y = get_probs(X,W,b)\n",
    "    \n",
    "    dW = np.dot( X.T, (y-Y) )/m # (4,1)\n",
    "    db = np.sum(y-Y)/m\n",
    "    \n",
    "    W = W - lr* ( dW + (lmda/m)*W ) \n",
    "    b = b - lr*db\n",
    "    return W,b"
   ]
  },
  {
   "cell_type": "code",
   "execution_count": 7,
   "metadata": {},
   "outputs": [
    {
     "name": "stdout",
     "output_type": "stream",
     "text": [
      "Iteration: 0, Cost: 1.095, Accuracy: 0.50\n",
      "Iteration: 20, Cost: 1.250, Accuracy: 0.50\n",
      "Iteration: 40, Cost: 1.116, Accuracy: 0.50\n",
      "Iteration: 60, Cost: 1.007, Accuracy: 0.50\n",
      "Iteration: 80, Cost: 0.900, Accuracy: 0.51\n",
      "Iteration: 100, Cost: 0.780, Accuracy: 0.54\n",
      "Iteration: 120, Cost: 0.638, Accuracy: 0.61\n",
      "Iteration: 140, Cost: 0.475, Accuracy: 0.72\n",
      "Iteration: 160, Cost: 0.322, Accuracy: 0.87\n",
      "Iteration: 180, Cost: 0.244, Accuracy: 0.93\n",
      "Iteration: 200, Cost: 0.227, Accuracy: 0.95\n",
      "Iteration: 220, Cost: 0.223, Accuracy: 0.95\n",
      "Iteration: 240, Cost: 0.219, Accuracy: 0.95\n",
      "Iteration: 260, Cost: 0.215, Accuracy: 0.95\n",
      "Iteration: 280, Cost: 0.212, Accuracy: 0.96\n"
     ]
    }
   ],
   "source": [
    "W,b = initialize_weights_and_bais(X.shape[1])\n",
    "for i in range(300):\n",
    "    p = get_probs(X,W,b)\n",
    "    cost = cost_function(p,Y)\n",
    "    acc = ((p>.5)*1 == Y).sum()/len(Y)\n",
    "    if i%20==0: print(f\"Iteration: {i}, Cost: {cost:.3f}, Accuracy: {acc:.2f}\")\n",
    "    W,b = optimize(W,b,X,Y,lr=0.2,lmda=0.5)"
   ]
  },
  {
   "cell_type": "code",
   "execution_count": null,
   "metadata": {
    "collapsed": true
   },
   "outputs": [],
   "source": []
  }
 ],
 "metadata": {
  "kernelspec": {
   "display_name": "Python 3",
   "language": "python",
   "name": "python3"
  },
  "language_info": {
   "codemirror_mode": {
    "name": "ipython",
    "version": 3
   },
   "file_extension": ".py",
   "mimetype": "text/x-python",
   "name": "python",
   "nbconvert_exporter": "python",
   "pygments_lexer": "ipython3",
   "version": "3.6.3"
  }
 },
 "nbformat": 4,
 "nbformat_minor": 2
}
