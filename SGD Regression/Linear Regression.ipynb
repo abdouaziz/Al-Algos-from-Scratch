{
 "cells": [
  {
   "cell_type": "code",
   "execution_count": null,
   "metadata": {
    "collapsed": true
   },
   "outputs": [],
   "source": [
    "import pandas as pd\n",
    "import numpy as np\n",
    "import matplotlib.pyplot as plt\n",
    "\n",
    "class LinearRegression(object):\n",
    "    def __init__(self,seed=None):\n",
    "        np.random.seed(seed if seed is not None else np.random.randint(100))\n",
    "        self.W = None\n",
    "        self.b = None\n",
    "        self.length = None\n",
    "        self.m = None\n",
    "        self.costs = []\n",
    "        self.iterations = []\n",
    "        \n",
    "    def __initialize_weights_and_bais(self):\n",
    "        \"\"\"\n",
    "        Randomly generating weights \n",
    "        \"\"\"\n",
    "        self.W = np.random.randn(self.length) #(n,1)\n",
    "        self.b = 0\n",
    "        \n",
    "    def __computeCost(self,h,Y):\n",
    "        \"\"\"Mean Squared Error\"\"\"\n",
    "        loss = np.square(h-Y)\n",
    "        cost = np.sum(loss)/(2*self.m)\n",
    "        return cost\n",
    "\n",
    "    def __optimize(self,X,Y,lr=None):\n",
    "        \"\"\"\n",
    "        Optimizing step for weight and bias\n",
    "        \"\"\"\n",
    "        h = self.predict(X)\n",
    "        dW = np.dot( X.T, (h-Y) ) / self.m\n",
    "        db = np.sum( h-Y )  / self.m\n",
    "        self.W = self.W - lr*dW\n",
    "        self.b = self.b - lr*db\n",
    "    \n",
    "    def fit(self, X, y, lr=1e-5, tol=0.01, verbose=True):\n",
    "        \"\"\"\n",
    "        Initialize weights and optimize them using multiple iterations\n",
    "        \"\"\"\n",
    "        self.m,self.length = X.shape\n",
    "        self.__initialize_weights_and_bais()\n",
    "        last_cost,i = float('inf'),0\n",
    "        while True:\n",
    "            h = self.predict(X)\n",
    "            cost = self.__computeCost(h,y)\n",
    "            if verbose: print(f\"Iteration: {i}, Cost: {cost:.3f}\")\n",
    "            self.__optimize(X,y,lr=lr)\n",
    "            if last_cost-cost < tol: break\n",
    "            else: last_cost,i = cost,i+1\n",
    "            self.costs.append(cost)\n",
    "            self.iterations.append(i)\n",
    "            \n",
    "    def predict(self,X):\n",
    "        \"\"\"\n",
    "        Prediction for X\n",
    "        \"\"\"\n",
    "        return np.dot(X,self.W)+self.b\n",
    "    \n",
    "    def plot(self,figsize=(7,5)):\n",
    "        \"\"\"\n",
    "        Interation vs Cost\n",
    "        \"\"\"\n",
    "        plt.figure(figsize=figsize)\n",
    "        plt.plot(self.iterations,self.costs)\n",
    "        plt.xlabel('Iterations')\n",
    "        plt.ylabel('Cost')\n",
    "        plt.title(\"Iterations vs Cost\")\n",
    "        plt.show()\n",
    "        \n",
    "    def score(self,X,y):\n",
    "        \"\"\"r2 : 1-ESS/TSS\"\"\"\n",
    "        return 1-(np.sum(((self.predict(X) - y)**2))/np.sum((y-np.mean(y))**2))\n",
    "        \n",
    "    @property\n",
    "    def weights(self): return self.W\n",
    "    \n",
    "    @property\n",
    "    def bias(self): return self.b"
   ]
  },
  {
   "cell_type": "markdown",
   "metadata": {},
   "source": [
    "$ output(h) =  X.W + b $\n",
    "\n",
    "$ cost(J) = \\frac{1}{2*m} \\sum_{i=1}^m (h-Y)^2  $\n",
    "\n",
    "$ \\large \\frac{dJ}{dw} = \\frac{1}{m} \\small (X^{T} . (h-Y)) $\n",
    "\n",
    "$ \\large \\frac{dJ}{db} = \\frac{1}{m} \\small \\sum (h-Y) $"
   ]
  },
  {
   "cell_type": "code",
   "execution_count": null,
   "metadata": {
    "collapsed": true
   },
   "outputs": [],
   "source": [
    "def normalize(X): return (X-X.mean(axis=0))/X.std(axis=0)\n",
    "\n",
    "def train_test_split(X,Y,test_size=None,seed=5):\n",
    "    \"\"\"\n",
    "    Custom Train Test split function\n",
    "    \"\"\"\n",
    "    assert test_size!=None, \"test_size cannot be None\"\n",
    "    np.random.seed(seed)\n",
    "    indexes = np.random.choice([False,True],size=len(X),p=[test_size,1-test_size])\n",
    "    return X[indexes],X[~indexes],Y[indexes],Y[~indexes]"
   ]
  },
  {
   "cell_type": "code",
   "execution_count": null,
   "metadata": {
    "collapsed": true
   },
   "outputs": [],
   "source": [
    "def root_mean_squared_error(Y,y):\n",
    "    \"\"\"\n",
    "    Args\n",
    "    Y : predicted\n",
    "    y : True labels\n",
    "    \"\"\"\n",
    "    loss = np.square(Y-y)\n",
    "    cost = np.sqrt(np.mean(loss))\n",
    "    return cost"
   ]
  },
  {
   "cell_type": "code",
   "execution_count": null,
   "metadata": {},
   "outputs": [],
   "source": [
    "data = pd.read_csv('../Decision Tree Regressor/data.csv')\n",
    "data.head()"
   ]
  },
  {
   "cell_type": "code",
   "execution_count": null,
   "metadata": {},
   "outputs": [],
   "source": [
    "X = data.drop('medv',axis=1).values\n",
    "Y = data['medv'].values\n",
    "X.shape,Y.shape"
   ]
  },
  {
   "cell_type": "code",
   "execution_count": null,
   "metadata": {},
   "outputs": [],
   "source": [
    "X = normalize(X)  #normalizing data\n",
    "\n",
    "X_train,X_val,Y_train,Y_val = train_test_split(X,Y,test_size=0.3,seed=7)\n",
    "X_train.shape,X_val.shape,Y_train.shape,Y_val.shape"
   ]
  },
  {
   "cell_type": "code",
   "execution_count": null,
   "metadata": {},
   "outputs": [],
   "source": [
    "lr = LinearRegression(seed=5)\n",
    "lr.fit(X_train,Y_train,lr=0.1,verbose=False)\n",
    "lr.score(X_val,Y_val)"
   ]
  },
  {
   "cell_type": "code",
   "execution_count": null,
   "metadata": {},
   "outputs": [],
   "source": [
    "root_mean_squared_error( lr.predict(X_val), Y_val )"
   ]
  },
  {
   "cell_type": "code",
   "execution_count": null,
   "metadata": {},
   "outputs": [],
   "source": [
    "lr.plot()"
   ]
  },
  {
   "cell_type": "code",
   "execution_count": null,
   "metadata": {},
   "outputs": [],
   "source": [
    "lr.weights"
   ]
  },
  {
   "cell_type": "code",
   "execution_count": null,
   "metadata": {},
   "outputs": [],
   "source": [
    "lr.bias"
   ]
  }
 ],
 "metadata": {
  "kernelspec": {
   "display_name": "Python 3",
   "language": "python",
   "name": "python3"
  },
  "language_info": {
   "codemirror_mode": {
    "name": "ipython",
    "version": 3
   },
   "file_extension": ".py",
   "mimetype": "text/x-python",
   "name": "python",
   "nbconvert_exporter": "python",
   "pygments_lexer": "ipython3",
   "version": "3.6.3"
  }
 },
 "nbformat": 4,
 "nbformat_minor": 2
}
