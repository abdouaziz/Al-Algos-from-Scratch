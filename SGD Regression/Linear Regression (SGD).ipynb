{
 "cells": [
  {
   "cell_type": "code",
   "execution_count": 1,
   "metadata": {
    "collapsed": true
   },
   "outputs": [],
   "source": [
    "import numpy as np\n",
    "import pandas as pd\n",
    "np.random.seed(2)"
   ]
  },
  {
   "cell_type": "code",
   "execution_count": 2,
   "metadata": {},
   "outputs": [
    {
     "data": {
      "text/plain": [
       "((1000, 2), (1000,))"
      ]
     },
     "execution_count": 2,
     "metadata": {},
     "output_type": "execute_result"
    }
   ],
   "source": [
    "data = pd.read_csv('student.csv')\n",
    "X = data.drop('Writing',axis=1).values\n",
    "Y = data['Writing'].values\n",
    "X.shape, Y.shape"
   ]
  },
  {
   "cell_type": "code",
   "execution_count": 3,
   "metadata": {
    "collapsed": true
   },
   "outputs": [],
   "source": [
    "def initialize_weights_and_bais(n):\n",
    "    W = np.random.randn(n) #(n,1)\n",
    "    b = 0\n",
    "    return W,b"
   ]
  },
  {
   "cell_type": "code",
   "execution_count": 4,
   "metadata": {
    "collapsed": true
   },
   "outputs": [],
   "source": [
    "def cost_function(h,Y):\n",
    "    \"mean squared error\"\n",
    "    m = len(Y)\n",
    "    loss = np.square(h-Y)\n",
    "    cost = np.sum(loss)/(m)\n",
    "    return cost"
   ]
  },
  {
   "cell_type": "markdown",
   "metadata": {},
   "source": [
    "#### Output of Linear Regression is\n",
    "\n",
    "$$  output(h_i) = \\sum_{i=1}^n X_i^j.W_i + b  $$\n"
   ]
  },
  {
   "cell_type": "markdown",
   "metadata": {},
   "source": [
    "$$  cost(J) = \\frac{1}{m} \\sum_{j=1}^m (Y^j - h^j)^2 = \\frac{1}{m} \\sum_{j=1}^m ( \\sum_{i=1}^n Y^j - X_i^j.W_i - b)^2 $$"
   ]
  },
  {
   "cell_type": "markdown",
   "metadata": {},
   "source": [
    "\n",
    "$$ \\frac{\\partial J}{\\partial b} = \\frac{1}{m} \\sum_{j=1}^m -2(\\sum_{i=1}^n Y^j - X_i^j.W_i - b) = - \\frac{2}{m} \\sum_{j=1}^m ( Y^j - h^j) $$"
   ]
  },
  {
   "cell_type": "markdown",
   "metadata": {},
   "source": [
    "\n",
    "$$ \\frac{\\partial J }{\\partial W_i} = \\frac{1}{m} \\sum_{j=1}^m -2X_i^j(\\sum_{i=1}^n Y^j - X_i^j.W_i - b) = -\\frac{2}{m} \\sum_{j=1}^m X_i^j(Y^j - h^j) $$"
   ]
  },
  {
   "cell_type": "markdown",
   "metadata": {},
   "source": [
    "### Example\n",
    "\n",
    "Let $ h(x) = x.w + b $ (only 1 feature is there) \n",
    "\n",
    "$$ J = \\frac{1}{m} \\sum_{j=1}^m \\big( y^j - h(x)^j \\big)^2 $$"
   ]
  },
  {
   "cell_type": "markdown",
   "metadata": {},
   "source": [
    "$$ \\frac{\\partial J}{\\partial w} = \\frac{1}{m} \\sum_{j=1}^m 2 \\big( y^j - h(x)^j \\big) \\frac{\\partial}{\\partial w} \\big(  y^j - x^j.w - b \\big) = - \\frac{2}{m} \\sum_{j=1}^m x^j \\big( y^j -  h(x)^j \\big) $$"
   ]
  },
  {
   "cell_type": "markdown",
   "metadata": {},
   "source": [
    "$$ \\frac{\\partial J}{\\partial b} = \\frac{1}{m} \\sum_{j=1}^m 2 \\big( y^j - h(x)^j \\big) \\frac{\\partial}{\\partial b} \\big(  y^j - x^j.w - b \\big) = - \\frac{2}{m} \\sum_{j=1}^m \\big( y^j - h(x)^j \\big) $$\n"
   ]
  },
  {
   "cell_type": "code",
   "execution_count": 5,
   "metadata": {
    "collapsed": true
   },
   "outputs": [],
   "source": [
    "def get_output(X,W,b):\n",
    "    return np.dot(X,W)+b\n",
    "    \n",
    "def optimize(W,b,X,Y,lr=0.01,lmda=0.1):\n",
    "    \"\"\"\n",
    "    W = weights\n",
    "    b = bias\n",
    "    lr = learning rate\n",
    "    lmda = regularization parameter\n",
    "    \"\"\"\n",
    "    m = len(Y)\n",
    "    h = get_output(X,W,b)\n",
    "    \n",
    "    dW = -2*np.dot( X.T, (Y-h) ) / m # (4,1)\n",
    "    db = -2*np.sum( Y-h )  / m\n",
    "    \n",
    "    W = W - lr*dW\n",
    "    b = b - lr*db\n",
    "    return W,b"
   ]
  },
  {
   "cell_type": "code",
   "execution_count": 6,
   "metadata": {},
   "outputs": [
    {
     "name": "stdout",
     "output_type": "stream",
     "text": [
      "Iteration: 0, Cost: 10576.447\n",
      "Iteration: 1, Cost: 6842.251\n",
      "Iteration: 2, Cost: 4429.576\n",
      "Iteration: 3, Cost: 2870.739\n",
      "Iteration: 4, Cost: 1863.568\n",
      "Iteration: 5, Cost: 1212.831\n",
      "Iteration: 6, Cost: 792.385\n",
      "Iteration: 7, Cost: 520.733\n",
      "Iteration: 8, Cost: 345.215\n",
      "Iteration: 9, Cost: 231.810\n",
      "Iteration: 10, Cost: 158.536\n",
      "Iteration: 11, Cost: 111.192\n",
      "Iteration: 12, Cost: 80.600\n",
      "Iteration: 13, Cost: 60.833\n",
      "Iteration: 14, Cost: 48.058\n",
      "Iteration: 15, Cost: 39.803\n",
      "Iteration: 16, Cost: 34.466\n",
      "Iteration: 17, Cost: 31.016\n",
      "Iteration: 18, Cost: 28.785\n",
      "Iteration: 19, Cost: 27.341\n",
      "Iteration: 20, Cost: 26.406\n",
      "Iteration: 21, Cost: 25.799\n",
      "Iteration: 22, Cost: 25.405\n",
      "Iteration: 23, Cost: 25.148\n",
      "Iteration: 24, Cost: 24.980\n",
      "Iteration: 25, Cost: 24.869\n",
      "Iteration: 26, Cost: 24.795\n",
      "Iteration: 27, Cost: 24.745\n",
      "Iteration: 28, Cost: 24.711\n",
      "Iteration: 29, Cost: 24.686\n",
      "Iteration: 30, Cost: 24.668\n",
      "Iteration: 31, Cost: 24.654\n",
      "Iteration: 32, Cost: 24.643\n",
      "Iteration: 33, Cost: 24.633\n"
     ]
    }
   ],
   "source": [
    "W,b = initialize_weights_and_bais(X.shape[1])\n",
    "last_cost,tol,i = float('inf'),0.01,0\n",
    "while True:\n",
    "    h = get_output(X,W,b)\n",
    "    cost = cost_function(h,Y)\n",
    "    print(f\"Iteration: {i}, Cost: {cost:.3f}\")\n",
    "    W,b = optimize(W,b,X,Y,lr=1e-5,lmda=0.5)\n",
    "    if last_cost-cost < tol: break\n",
    "    else: last_cost, i = cost, i+1"
   ]
  },
  {
   "cell_type": "markdown",
   "metadata": {},
   "source": [
    "#### R squared - Coefficient of Determination\n",
    "R-squared (R^2) is a statistical measure that represents the proportion of the variance for a dependent variable that's explained by an independent variable or variables in a regression model. \n",
    "\n",
    "$$ R^2 = \\frac{ \\text{Explained Sum of Squares (ESS)} }{\\text{Total Sum of Squares (TSS)}} $$"
   ]
  },
  {
   "cell_type": "markdown",
   "metadata": {},
   "source": [
    "$$  R^2 = 1 - \\frac{ \\text{Residual Sum of Squares (RSS)} }{\\text{Total Sum of Squares (TSS)}}  $$"
   ]
  },
  {
   "cell_type": "markdown",
   "metadata": {},
   "source": [
    "$$ R^2 = 1 - \\frac{ \\sum_i{ (y - h)^2 } }{  \\sum_i{ (y-\\bar y)^2} } $$"
   ]
  },
  {
   "cell_type": "code",
   "execution_count": 8,
   "metadata": {},
   "outputs": [
    {
     "data": {
      "text/plain": [
       "0.893886642413261"
      ]
     },
     "execution_count": 8,
     "metadata": {},
     "output_type": "execute_result"
    }
   ],
   "source": [
    "def rsquare( y_true, y_pred ):\n",
    "    return 1 - ( np.sum( ( y_true - y_pred )**2  ) / np.sum( (y_true -y_true.mean())**2 )  )\n",
    "rsquare( Y, get_output(X,W,b) )"
   ]
  },
  {
   "cell_type": "code",
   "execution_count": null,
   "metadata": {
    "collapsed": true
   },
   "outputs": [],
   "source": []
  }
 ],
 "metadata": {
  "kernelspec": {
   "display_name": "Python 3",
   "language": "python",
   "name": "python3"
  },
  "language_info": {
   "codemirror_mode": {
    "name": "ipython",
    "version": 3
   },
   "file_extension": ".py",
   "mimetype": "text/x-python",
   "name": "python",
   "nbconvert_exporter": "python",
   "pygments_lexer": "ipython3",
   "version": "3.6.3"
  }
 },
 "nbformat": 4,
 "nbformat_minor": 2
}
