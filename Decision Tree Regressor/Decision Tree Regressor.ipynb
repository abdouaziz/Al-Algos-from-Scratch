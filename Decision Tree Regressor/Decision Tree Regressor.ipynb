{
 "cells": [
  {
   "cell_type": "markdown",
   "metadata": {},
   "source": [
    "# Decision Trees\n",
    "Decision Trees are ML algorithms that progressively divide data sets into smaller data groups based on a descriptive feature, until they reach sets that are small enough to be described by some label.\n",
    "\n",
    "### Main DT Algorithms\n",
    "####  1. CHAID - Chi-squared Automatic Interaction Detection\n",
    "When building **classification trees**, CHAID relies on chi-squared tests to find the best split at each step. In other words, it chooses the independent variable that has the strongest interaction with the dependent variable. For **regression trees**, CHAID relies on F-tests to calculate the difference between two population means.\n",
    "\n",
    "#### 2. CART - Classification And Regression Trees\n",
    "In the case of **Classification Trees**, CART algorithm uses a metric called **Gini Impurity** to create decision points for classification tasks. Gini Impurity gives an idea of how fine a split is. In the case of **Regression Trees**, CART algorithm looks for splits that minimize the **Least Square Deviation (LSD)**, choosing the partitions that minimize the result over all possible options. The LSD (sometimes referred as “variance reduction”) metric minimizes the sum of the squared distances (or deviations) between the observed values and the predicted values.\n",
    "\n",
    "#### 3. ID3 - Iterative Dichotomiser 3\n",
    "It is mostly used for classification tasks. ID3 splits data attributes (dichotomizes) to find the most dominant features, performing this process iteratively to select the DT nodes in a top-down approach. For the splitting process, ID3 uses the **Information Gain** metric to select the most useful attributes for classification. Information Gain is directly linked to the concept of **Entropy**, which is the measure of the amount of uncertainty or randomness in the data.\n",
    "\n",
    "#### 4. C 4.5 \n",
    "It is successor of ID3. C4.5 can handle both continuous and categorical data, making it suitable to generate Regression and Classification Trees. Additionally, it can deal with missing values by ignoring instances that include non-existing data. Unlike ID3, C4.5 uses **Gain Ratio** for its splitting process. Gain Ratio is a modification of the Information Gain concept that reduces the bias on DTs. Another capability of C4.5 is that it can prune DTs."
   ]
  },
  {
   "cell_type": "code",
   "execution_count": 1,
   "metadata": {
    "collapsed": true
   },
   "outputs": [],
   "source": [
    "import numpy as np\n",
    "import pandas as pd\n",
    "import matplotlib.pyplot as plt\n",
    "%matplotlib inline"
   ]
  },
  {
   "cell_type": "markdown",
   "metadata": {},
   "source": [
    "### Here we will implement CART algorithm for Regression task\n",
    "#### Important points\n",
    "1. The representation of the CART model is a binary tree.\n",
    "2. For regression, The cost function that is minimized to choose split points is the sum squared error(MSE) across all training samples that fall within the node.\n",
    "3. For classification, The Gini cost function is used which provides an indication of how pure the nodes are, where node purity refers to how mixed the training data assigned to each node is."
   ]
  },
  {
   "cell_type": "markdown",
   "metadata": {},
   "source": [
    "### 1. MSE Criterion\n",
    "* Name of the cost function used to evaluate splits in the dataset.\n",
    "* Performs only binary splits\n",
    "* Higher the value of mse higher the error.\n",
    "\n",
    "**Steps to calculate cost**:\n",
    "1. Calculate Mean squared Error of y for each node.\n",
    "2. Calculate Gini for split using weighted mse of each node of that split\n",
    "\n",
    "\n",
    "$$ Cost\\;for\\;split = \\sum ( MSE\\;for\\;node\\;y\\;values * \\frac{node\\;size}{total\\;size}) $$\n",
    "\n"
   ]
  },
  {
   "cell_type": "markdown",
   "metadata": {},
   "source": [
    "### 2. Terminal Node\n",
    "When to decide to stop growing the tree\n",
    "\n",
    "**Maximum Tree Depth** : This is the maximum number of nodes from the root node of the tree. Once a maximum depth of the tree is met, we must stop splitting adding new nodes. Deeper trees are more complex and are more likely to overfit the training data.\n",
    "\n",
    "**Minimum Node Records** :  This is the minimum number of training patterns that a given node is responsible for. Once at or below this minimum, we must stop splitting and adding new nodes. Nodes that account for too few training patterns are expected to be too specific and are likely to overfit the training data.\n",
    "\n",
    "There is one more condition. It is possible to choose a split in which all rows belong to one group. In this case, we will be unable to continue splitting and adding child nodes as we will have no records to split on one side or another.\n",
    "\n",
    "Now we have some ideas of when to stop growing the tree. When we do stop growing at a given point, that node is called a terminal node and is used to make a final prediction.\n",
    "\n",
    "This is done by taking the group of rows assigned to that node and selecting the most common class value in the group. This will be used to make predictions."
   ]
  },
  {
   "cell_type": "code",
   "execution_count": 2,
   "metadata": {
    "collapsed": true
   },
   "outputs": [],
   "source": [
    "class DecisionTreeRegressor():\n",
    "    def __init__(self,criterion='mse'):\n",
    "        \"\"\"\n",
    "        Args :\n",
    "        criterion : mse : mean squared error, mae : mean absoulute error, std : standard deviation\n",
    "        \"\"\"\n",
    "        self.root = None\n",
    "        self.max_depth = 0\n",
    "        self.cost = { 'mse':self.__mse,'std':self.__std,'mae':self.__mae }[criterion]\n",
    "        self.X = None\n",
    "        self.y = None\n",
    "        \n",
    "    def __std(self,y):\n",
    "        squared_error = (y-y.mean())**2\n",
    "        return np.sqrt(  np.sum(squared_error)/len(y)  )\n",
    "    \n",
    "    def __mse(self,y):\n",
    "        squared_error = (y-y.mean())**2\n",
    "        return np.sum( squared_error/len(y) )\n",
    "    \n",
    "    def __mae(self,y): return np.sum(abs(y-y.mean())/len(y))\n",
    "    \n",
    "    def computeCost(self,groups, y):\n",
    "        n_instances = len(groups[0])+len(groups[1])  # count of all samples\n",
    "        weighted_cost = 0.0 # sum weighted Gini index for each group\n",
    "        for indexes in groups:\n",
    "            size = len(indexes)\n",
    "            # avoid divide by zero\n",
    "            if size == 0: continue\n",
    "            weighted_cost +=  self.cost(y[indexes]) * (size/n_instances)\n",
    "        return weighted_cost\n",
    "    \n",
    "    def get_split(self,X,y):\n",
    "        b_index, b_value, b_cost, b_groups = float('inf'), float('inf'), float('inf'), None\n",
    "        for col_ind in range(X.shape[1]): #no of features\n",
    "            for val in np.unique(X[:,col_ind]): #for each unique value in each of the features\n",
    "\n",
    "                #left_index indexes lower than val for feature, right_index indexes greater that val for feature\n",
    "                left_index = np.reshape( np.argwhere(X[:,col_ind]<val), (-1,) )\n",
    "                right_index = np.reshape( np.argwhere(X[:,col_ind]>=val), (-1,) )\n",
    "                \n",
    "                #find gini index\n",
    "                cost = self.computeCost((left_index,right_index), y)\n",
    "                if cost < b_cost:\n",
    "                    b_index, b_value, b_cost, b_groups = col_ind, val, cost, (left_index, right_index)\n",
    "        return {'index':b_index, 'value':b_value, 'groups':b_groups}\n",
    "    \n",
    "    def to_terminal(self,y): return y.mean()\n",
    "    \n",
    "    def split(self,node, X, y, max_depth, min_samples_split, depth):\n",
    "        self.max_depth = max(depth,self.max_depth)\n",
    "        left, right = node.pop('groups')\n",
    "        \n",
    "        # check for a no split\n",
    "        if len(left)==0 or len(right)==0:\n",
    "            node['left'] = node['right'] = self.to_terminal(y[np.append(left,right)])\n",
    "            return\n",
    "        \n",
    "        # check for max depth\n",
    "        if depth >= max_depth:\n",
    "            node['left'], node['right'] = self.to_terminal(y[left]), self.to_terminal(y[right])\n",
    "            return\n",
    "        \n",
    "        # process left child\n",
    "        if len(left) <= min_samples_split:\n",
    "            node['left'] = self.to_terminal(y[left])\n",
    "        else:\n",
    "            node['left'] = self.get_split(X[left],y[left])\n",
    "            self.split(node['left'], X[left], y[left], max_depth, min_samples_split, depth+1)\n",
    "        \n",
    "        # process right child\n",
    "        if len(right) <= min_samples_split:\n",
    "            node['right'] = self.to_terminal(y[right])\n",
    "        else:\n",
    "            node['right'] = self.get_split(X[right],y[right])\n",
    "            self.split(node['right'],X[right],y[right], max_depth, min_samples_split, depth+1)\n",
    "\n",
    "    def fit(self, X, y, max_depth=None, min_samples_split=2):\n",
    "        self.X, self.y, max_depth = X, y, float('inf') if max_depth==None else max_depth\n",
    "        self.root = self.get_split(X,y)\n",
    "        self.split(self.root, X, y, max_depth, min_samples_split,1)\n",
    "        \n",
    "    def predict_row(self,row,node):\n",
    "        if row[node['index']] < node['value']:\n",
    "            if isinstance(node['left'], dict): return self.predict_row(row,node['left'])\n",
    "            else: return node['left']\n",
    "        else:\n",
    "            if isinstance(node['right'], dict): return self.predict_row(row,node['right'])\n",
    "            else: return node['right']\n",
    "    \n",
    "    def predict(self,rows): return np.array( [self.predict_row(row,self.root) for row in rows] )\n",
    "    \n",
    "    def score(self,X,y):\n",
    "        \"Coefficient of Determination: r2\"\n",
    "        y_pred = self.predict(X)\n",
    "        return 1-( np.sum( (y-y_pred)**2 )/np.sum( (y-y.mean())**2 ) )\n",
    "    \n",
    "    @property\n",
    "    def depth(self): return self.max_depth\n",
    "    \n",
    "    @property\n",
    "    def tree_(self): return self.root"
   ]
  },
  {
   "cell_type": "code",
   "execution_count": 3,
   "metadata": {},
   "outputs": [
    {
     "data": {
      "text/html": [
       "<div>\n",
       "<style scoped>\n",
       "    .dataframe tbody tr th:only-of-type {\n",
       "        vertical-align: middle;\n",
       "    }\n",
       "\n",
       "    .dataframe tbody tr th {\n",
       "        vertical-align: top;\n",
       "    }\n",
       "\n",
       "    .dataframe thead th {\n",
       "        text-align: right;\n",
       "    }\n",
       "</style>\n",
       "<table border=\"1\" class=\"dataframe\">\n",
       "  <thead>\n",
       "    <tr style=\"text-align: right;\">\n",
       "      <th></th>\n",
       "      <th>crim</th>\n",
       "      <th>zn</th>\n",
       "      <th>indus</th>\n",
       "      <th>chas</th>\n",
       "      <th>nox</th>\n",
       "      <th>rm</th>\n",
       "      <th>age</th>\n",
       "      <th>dis</th>\n",
       "      <th>rad</th>\n",
       "      <th>tax</th>\n",
       "      <th>ptratio</th>\n",
       "      <th>b</th>\n",
       "      <th>lstat</th>\n",
       "      <th>medv</th>\n",
       "    </tr>\n",
       "  </thead>\n",
       "  <tbody>\n",
       "    <tr>\n",
       "      <th>483</th>\n",
       "      <td>2.81838</td>\n",
       "      <td>0.0</td>\n",
       "      <td>18.10</td>\n",
       "      <td>0</td>\n",
       "      <td>0.532</td>\n",
       "      <td>5.762</td>\n",
       "      <td>40.3</td>\n",
       "      <td>4.0983</td>\n",
       "      <td>24</td>\n",
       "      <td>666</td>\n",
       "      <td>20.2</td>\n",
       "      <td>392.92</td>\n",
       "      <td>10.42</td>\n",
       "      <td>21.8</td>\n",
       "    </tr>\n",
       "    <tr>\n",
       "      <th>458</th>\n",
       "      <td>7.75223</td>\n",
       "      <td>0.0</td>\n",
       "      <td>18.10</td>\n",
       "      <td>0</td>\n",
       "      <td>0.713</td>\n",
       "      <td>6.301</td>\n",
       "      <td>83.7</td>\n",
       "      <td>2.7831</td>\n",
       "      <td>24</td>\n",
       "      <td>666</td>\n",
       "      <td>20.2</td>\n",
       "      <td>272.21</td>\n",
       "      <td>16.23</td>\n",
       "      <td>14.9</td>\n",
       "    </tr>\n",
       "    <tr>\n",
       "      <th>391</th>\n",
       "      <td>5.29305</td>\n",
       "      <td>0.0</td>\n",
       "      <td>18.10</td>\n",
       "      <td>0</td>\n",
       "      <td>0.700</td>\n",
       "      <td>6.051</td>\n",
       "      <td>82.5</td>\n",
       "      <td>2.1678</td>\n",
       "      <td>24</td>\n",
       "      <td>666</td>\n",
       "      <td>20.2</td>\n",
       "      <td>378.38</td>\n",
       "      <td>18.76</td>\n",
       "      <td>23.2</td>\n",
       "    </tr>\n",
       "    <tr>\n",
       "      <th>129</th>\n",
       "      <td>0.88125</td>\n",
       "      <td>0.0</td>\n",
       "      <td>21.89</td>\n",
       "      <td>0</td>\n",
       "      <td>0.624</td>\n",
       "      <td>5.637</td>\n",
       "      <td>94.7</td>\n",
       "      <td>1.9799</td>\n",
       "      <td>4</td>\n",
       "      <td>437</td>\n",
       "      <td>21.2</td>\n",
       "      <td>396.90</td>\n",
       "      <td>18.34</td>\n",
       "      <td>14.3</td>\n",
       "    </tr>\n",
       "    <tr>\n",
       "      <th>297</th>\n",
       "      <td>0.14103</td>\n",
       "      <td>0.0</td>\n",
       "      <td>13.92</td>\n",
       "      <td>0</td>\n",
       "      <td>0.437</td>\n",
       "      <td>5.790</td>\n",
       "      <td>58.0</td>\n",
       "      <td>6.3200</td>\n",
       "      <td>4</td>\n",
       "      <td>289</td>\n",
       "      <td>16.0</td>\n",
       "      <td>396.90</td>\n",
       "      <td>15.84</td>\n",
       "      <td>20.3</td>\n",
       "    </tr>\n",
       "  </tbody>\n",
       "</table>\n",
       "</div>"
      ],
      "text/plain": [
       "        crim   zn  indus  chas    nox     rm   age     dis  rad  tax  ptratio  \\\n",
       "483  2.81838  0.0  18.10     0  0.532  5.762  40.3  4.0983   24  666     20.2   \n",
       "458  7.75223  0.0  18.10     0  0.713  6.301  83.7  2.7831   24  666     20.2   \n",
       "391  5.29305  0.0  18.10     0  0.700  6.051  82.5  2.1678   24  666     20.2   \n",
       "129  0.88125  0.0  21.89     0  0.624  5.637  94.7  1.9799    4  437     21.2   \n",
       "297  0.14103  0.0  13.92     0  0.437  5.790  58.0  6.3200    4  289     16.0   \n",
       "\n",
       "          b  lstat  medv  \n",
       "483  392.92  10.42  21.8  \n",
       "458  272.21  16.23  14.9  \n",
       "391  378.38  18.76  23.2  \n",
       "129  396.90  18.34  14.3  \n",
       "297  396.90  15.84  20.3  "
      ]
     },
     "execution_count": 3,
     "metadata": {},
     "output_type": "execute_result"
    }
   ],
   "source": [
    "data = pd.read_csv('data.csv')\n",
    "data = data.sample(frac=1)\n",
    "data.head()"
   ]
  },
  {
   "cell_type": "code",
   "execution_count": 4,
   "metadata": {},
   "outputs": [
    {
     "data": {
      "text/plain": [
       "((359, 13), (147, 13), (359,), (147,))"
      ]
     },
     "execution_count": 4,
     "metadata": {},
     "output_type": "execute_result"
    }
   ],
   "source": [
    "def train_test_split(X,y,test_size=0.3):\n",
    "    indexes = np.random.choice( [False,True], len(y), p=[test_size,1-test_size])\n",
    "    return X[indexes],X[~indexes],y[indexes],y[~indexes]\n",
    "\n",
    "X = data.drop('medv',axis=1).values\n",
    "y = data.medv.values\n",
    "\n",
    "X_train,X_val,Y_train,Y_val = train_test_split(X,y)\n",
    "X_train.shape,X_val.shape,Y_train.shape,Y_val.shape"
   ]
  },
  {
   "cell_type": "code",
   "execution_count": 5,
   "metadata": {},
   "outputs": [
    {
     "data": {
      "text/plain": [
       "(0.6075823746728266, 18)"
      ]
     },
     "execution_count": 5,
     "metadata": {},
     "output_type": "execute_result"
    }
   ],
   "source": [
    "dt = DecisionTreeRegressor(criterion='mse')\n",
    "dt.fit(X_train,Y_train)\n",
    "dt.score(X_val,Y_val),dt.depth"
   ]
  },
  {
   "cell_type": "code",
   "execution_count": 6,
   "metadata": {},
   "outputs": [
    {
     "data": {
      "text/plain": [
       "(array([ 5.  ,  6.3 ,  7.  ,  7.2 ,  7.45,  8.3 , 10.9 , 11.05, 11.4 ,\n",
       "        11.7 , 12.15, 13.65, 14.  , 14.2 , 14.35, 14.8 , 15.3 , 15.4 ,\n",
       "        15.5 , 15.7 , 16.6 , 16.7 , 17.05, 17.5 , 17.8 , 18.15, 18.25,\n",
       "        18.5 , 18.6 , 18.7 , 19.25, 19.3 , 19.5 , 19.85, 20.25, 20.55,\n",
       "        20.75, 20.9 , 21.15, 21.2 , 21.45, 21.7 , 21.75, 22.  , 22.2 ,\n",
       "        22.25, 22.5 , 22.6 , 22.8 , 22.85, 22.9 , 23.2 , 23.4 , 23.7 ,\n",
       "        23.8 , 23.95, 24.05, 24.55, 24.8 , 26.4 , 27.35, 28.55, 28.6 ,\n",
       "        28.85, 29.1 , 30.8 , 31.05, 31.2 , 31.5 , 32.  , 32.25, 33.2 ,\n",
       "        34.9 , 35.  , 36.2 , 36.45, 43.9 , 46.55, 50.  ]),\n",
       " array([1, 1, 1, 1, 1, 2, 2, 1, 1, 4, 5, 2, 1, 1, 1, 1, 2, 1, 1, 2, 1, 1,\n",
       "        1, 1, 3, 1, 1, 4, 4, 6, 1, 1, 1, 1, 1, 2, 1, 1, 1, 4, 2, 4, 1, 4,\n",
       "        2, 1, 1, 1, 1, 2, 2, 2, 1, 1, 7, 2, 2, 1, 2, 2, 1, 1, 2, 5, 1, 2,\n",
       "        1, 1, 2, 2, 2, 1, 3, 1, 2, 2, 1, 2, 5]))"
      ]
     },
     "execution_count": 6,
     "metadata": {},
     "output_type": "execute_result"
    }
   ],
   "source": [
    "np.unique(dt.predict(X_val),return_counts=True)"
   ]
  },
  {
   "cell_type": "code",
   "execution_count": null,
   "metadata": {
    "collapsed": true
   },
   "outputs": [],
   "source": []
  }
 ],
 "metadata": {
  "kernelspec": {
   "display_name": "Python 3",
   "language": "python",
   "name": "python3"
  },
  "language_info": {
   "codemirror_mode": {
    "name": "ipython",
    "version": 3
   },
   "file_extension": ".py",
   "mimetype": "text/x-python",
   "name": "python",
   "nbconvert_exporter": "python",
   "pygments_lexer": "ipython3",
   "version": "3.6.3"
  }
 },
 "nbformat": 4,
 "nbformat_minor": 2
}
