{
 "cells": [
  {
   "cell_type": "code",
   "execution_count": 1,
   "metadata": {
    "collapsed": true
   },
   "outputs": [],
   "source": [
    "import numpy as np\n",
    "import pandas as pd"
   ]
  },
  {
   "cell_type": "code",
   "execution_count": 2,
   "metadata": {},
   "outputs": [
    {
     "data": {
      "text/plain": [
       "((150, 4), (150,))"
      ]
     },
     "execution_count": 2,
     "metadata": {},
     "output_type": "execute_result"
    }
   ],
   "source": [
    "data = pd.read_csv('Iris.csv').drop('Id',axis=1)\n",
    "data = data.sample(frac=1)\n",
    "X = data.iloc[:,0:4].values\n",
    "Y = data.iloc[:,4].values\n",
    "X.shape,Y.shape"
   ]
  },
  {
   "cell_type": "code",
   "execution_count": 3,
   "metadata": {},
   "outputs": [
    {
     "data": {
      "text/plain": [
       "array([[-0.05250608, -0.8191665 ,  0.1941016 , -0.26119297],\n",
       "       [ 0.67450115, -0.35636057,  0.30783301,  0.13322594],\n",
       "       [ 0.67450115, -0.58776353,  1.04708716,  1.1850097 ],\n",
       "       [ 0.18982966, -0.1249576 ,  0.59216153,  0.79059079],\n",
       "       [-0.41600969, -1.28197243,  0.1372359 ,  0.13322594],\n",
       "       [-0.7795133 ,  1.03205722, -1.2844067 , -1.31297673],\n",
       "       [ 1.64384411,  0.33784833,  1.27454998,  0.79059079],\n",
       "       [ 0.79566902, -0.58776353,  0.47843012,  0.39617188],\n",
       "       [-0.29484182, -1.28197243,  0.08037019, -0.12972   ],\n",
       "       [ 1.2803405 ,  0.10644536,  0.64902723,  0.39617188]])"
      ]
     },
     "execution_count": 3,
     "metadata": {},
     "output_type": "execute_result"
    }
   ],
   "source": [
    "X = (X-X.mean(axis=0))/X.std(axis=0)\n",
    "X[:10]"
   ]
  },
  {
   "cell_type": "code",
   "execution_count": 4,
   "metadata": {},
   "outputs": [
    {
     "data": {
      "text/plain": [
       "((120, 4), (30, 4), (120,), (30,))"
      ]
     },
     "execution_count": 4,
     "metadata": {},
     "output_type": "execute_result"
    }
   ],
   "source": [
    "from sklearn.model_selection import train_test_split\n",
    "X_train, X_test, Y_train, Y_test = train_test_split(X,Y,test_size=.2,stratify=Y)\n",
    "X_train.shape,X_test.shape,Y_train.shape,Y_test.shape"
   ]
  },
  {
   "cell_type": "markdown",
   "metadata": {},
   "source": [
    "#### Euclidean  \n",
    "$ d = \\sqrt{ \\sum_{i=0}^{k} \\big(X_i - Y_i \\big)^2 } $\n",
    "\n",
    "#### Manhatten\n",
    "$ d = \\sum_{i=0}^{k} \\big| X_i - Y_i \\big| $\n",
    "\n",
    "#### MinKowski\n",
    "$ d = \\bigg( \\sum_{i=0}^{k} \\big( \\big|X_i - Y_i\\big| \\big)^q  \\bigg)^\\frac{1}{q} $"
   ]
  },
  {
   "cell_type": "code",
   "execution_count": 5,
   "metadata": {
    "collapsed": true
   },
   "outputs": [],
   "source": [
    "def euclidean(X1,X2):\n",
    "    return np.sqrt(np.sum(np.square(X1-X2),axis=1))\n",
    "\n",
    "def manhatten(X1,X2):\n",
    "    return np.sum(np.abs(X1-X2),axis=1)\n",
    "\n",
    "def minkowski(X1,X2,q):\n",
    "    return np.power(np.sum(np.power(np.abs(X1-X2),q),axis=1),1/q)"
   ]
  },
  {
   "cell_type": "code",
   "execution_count": 6,
   "metadata": {},
   "outputs": [
    {
     "data": {
      "text/plain": [
       "(array([3.57311423]), array([7]), array([4.35889894]))"
      ]
     },
     "execution_count": 6,
     "metadata": {},
     "output_type": "execute_result"
    }
   ],
   "source": [
    "X1,X2 = np.array([[2,5,6]]),np.array([[5,6,9]])\n",
    "minkowski(X1,X2,4),manhatten(X1,X2),euclidean(X1,X2)"
   ]
  },
  {
   "cell_type": "code",
   "execution_count": 7,
   "metadata": {
    "collapsed": true
   },
   "outputs": [],
   "source": [
    "from scipy.stats import mode\n",
    "def predict(test,X,Y,k=5,distance='euclidean',q=4):\n",
    "    \"\"\"\n",
    "        test: sample to test\n",
    "        X : train data to find neighbors\n",
    "        Y : labels of train\n",
    "        k : no of neighbors to consider\n",
    "        distance : choice of distance metric ( 'euclidean', 'manhatten', 'minkowski' ) \n",
    "        q : used for minkowski distance metric only\n",
    "    \"\"\"\n",
    "    func = None\n",
    "    if distance=='euclidean': func= euclidean\n",
    "    elif distance=='manhatten': func=manhatten\n",
    "    elif distance=='minkowski': func=lambda x,y: minkowski(x,y,q)\n",
    "    else: print(\"Wrong Distance metric!!\"); return None\n",
    "    \n",
    "    assert test.shape == (1,X.shape[1])\n",
    "    y = func(X,test)\n",
    "    ind = y.argsort()[:k]\n",
    "    return mode(Y[ind]).mode[0]"
   ]
  },
  {
   "cell_type": "code",
   "execution_count": 8,
   "metadata": {},
   "outputs": [
    {
     "name": "stdout",
     "output_type": "stream",
     "text": [
      "Accuracy : 0.9333\n"
     ]
    },
    {
     "name": "stderr",
     "output_type": "stream",
     "text": [
      "/home/aditya/.conda/envs/py3k/lib/python3.6/site-packages/scipy/stats/stats.py:253: RuntimeWarning: The input array could not be properly checked for nan values. nan values will be ignored.\n",
      "  \"values. nan values will be ignored.\", RuntimeWarning)\n"
     ]
    }
   ],
   "source": [
    "predictions = []\n",
    "for sample in X_test:\n",
    "    sample = np.expand_dims(sample,axis=0) \n",
    "    predictions.append(predict(sample,X_train,Y_train,k=5,distance='euclidean'))\n",
    "predictions = np.array(predictions)\n",
    "print(f\"Accuracy : {(predictions==Y_test).sum()/len(Y_test):.4f}\")"
   ]
  },
  {
   "cell_type": "code",
   "execution_count": 9,
   "metadata": {},
   "outputs": [
    {
     "name": "stdout",
     "output_type": "stream",
     "text": [
      "Accuracy : 0.9667\n"
     ]
    },
    {
     "name": "stderr",
     "output_type": "stream",
     "text": [
      "/home/aditya/.conda/envs/py3k/lib/python3.6/site-packages/scipy/stats/stats.py:253: RuntimeWarning: The input array could not be properly checked for nan values. nan values will be ignored.\n",
      "  \"values. nan values will be ignored.\", RuntimeWarning)\n"
     ]
    }
   ],
   "source": [
    "predictions = []\n",
    "for sample in X_test:\n",
    "    sample = np.expand_dims(sample,axis=0) \n",
    "    predictions.append(predict(sample,X_train,Y_train,k=5,distance='manhatten'))\n",
    "predictions = np.array(predictions)\n",
    "print(f\"Accuracy : {(predictions==Y_test).sum()/len(Y_test):.4f}\")"
   ]
  },
  {
   "cell_type": "code",
   "execution_count": 10,
   "metadata": {},
   "outputs": [
    {
     "name": "stdout",
     "output_type": "stream",
     "text": [
      "Accuracy : 0.9000\n"
     ]
    },
    {
     "name": "stderr",
     "output_type": "stream",
     "text": [
      "/home/aditya/.conda/envs/py3k/lib/python3.6/site-packages/scipy/stats/stats.py:253: RuntimeWarning: The input array could not be properly checked for nan values. nan values will be ignored.\n",
      "  \"values. nan values will be ignored.\", RuntimeWarning)\n"
     ]
    }
   ],
   "source": [
    "predictions = []\n",
    "for sample in X_test:\n",
    "    sample = np.expand_dims(sample,axis=0) \n",
    "    predictions.append(predict(sample,X_train,Y_train,k=5,distance='minkowski',q=4))\n",
    "predictions = np.array(predictions)\n",
    "print(f\"Accuracy : {(predictions==Y_test).sum()/len(Y_test):.4f}\")"
   ]
  }
 ],
 "metadata": {
  "kernelspec": {
   "display_name": "Python 3",
   "language": "python",
   "name": "python3"
  },
  "language_info": {
   "codemirror_mode": {
    "name": "ipython",
    "version": 3
   },
   "file_extension": ".py",
   "mimetype": "text/x-python",
   "name": "python",
   "nbconvert_exporter": "python",
   "pygments_lexer": "ipython3",
   "version": "3.6.3"
  }
 },
 "nbformat": 4,
 "nbformat_minor": 2
}
