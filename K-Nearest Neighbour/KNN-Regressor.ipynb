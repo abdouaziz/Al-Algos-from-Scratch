{
 "cells": [
  {
   "cell_type": "code",
   "execution_count": 1,
   "metadata": {
    "collapsed": true
   },
   "outputs": [],
   "source": [
    "import numpy as np\n",
    "import pandas as pd"
   ]
  },
  {
   "cell_type": "code",
   "execution_count": 9,
   "metadata": {},
   "outputs": [
    {
     "data": {
      "text/plain": [
       "((1000, 2), (1000,))"
      ]
     },
     "execution_count": 9,
     "metadata": {},
     "output_type": "execute_result"
    }
   ],
   "source": [
    "data = pd.read_csv('student.csv')\n",
    "data = data.sample(frac=1)\n",
    "X,Y = data.iloc[:,0:2].values,data.iloc[:,2].values\n",
    "X.shape,Y.shape"
   ]
  },
  {
   "cell_type": "code",
   "execution_count": 10,
   "metadata": {},
   "outputs": [
    {
     "data": {
      "text/plain": [
       "array([[-0.15188231,  0.28178058],\n",
       "       [-0.28453062, -1.42473939],\n",
       "       [ 0.77665584,  1.30569255],\n",
       "       [ 0.51135923,  0.62308457],\n",
       "       [-1.87631032, -1.15169619]])"
      ]
     },
     "execution_count": 10,
     "metadata": {},
     "output_type": "execute_result"
    }
   ],
   "source": [
    "X = (X-X.mean(axis=0))/X.std(axis=0)\n",
    "X[:5]"
   ]
  },
  {
   "cell_type": "code",
   "execution_count": 12,
   "metadata": {},
   "outputs": [
    {
     "data": {
      "text/plain": [
       "((800, 2), (200, 2), (800,), (200,))"
      ]
     },
     "execution_count": 12,
     "metadata": {},
     "output_type": "execute_result"
    }
   ],
   "source": [
    "from sklearn.model_selection import train_test_split\n",
    "X_train, X_test, Y_train, Y_test = train_test_split(X,Y,test_size=.2)\n",
    "X_train.shape,X_test.shape,Y_train.shape,Y_test.shape"
   ]
  },
  {
   "cell_type": "markdown",
   "metadata": {},
   "source": [
    "#### Euclidean  \n",
    "$ d = \\sqrt{ \\sum_{i=0}^{k} \\big(X_i - Y_i \\big)^2 } $\n",
    "\n",
    "#### Manhatten\n",
    "$ d = \\sum_{i=0}^{k} \\big| X_i - Y_i \\big| $\n",
    "\n",
    "#### MinKowski\n",
    "$ d = \\bigg( \\sum_{i=0}^{k} \\big( \\big|X_i - Y_i\\big| \\big)^q  \\bigg)^\\frac{1}{q} $"
   ]
  },
  {
   "cell_type": "code",
   "execution_count": 13,
   "metadata": {
    "collapsed": true
   },
   "outputs": [],
   "source": [
    "def euclidean(X1,X2):\n",
    "    return np.sqrt(np.sum(np.square(X1-X2),axis=1))\n",
    "\n",
    "def manhatten(X1,X2):\n",
    "    return np.sum(np.abs(X1-X2),axis=1)\n",
    "\n",
    "def minkowski(X1,X2,q):\n",
    "    return np.power(np.sum(np.power(np.abs(X1-X2),2),axis=1),1/q)"
   ]
  },
  {
   "cell_type": "code",
   "execution_count": 14,
   "metadata": {
    "collapsed": true
   },
   "outputs": [],
   "source": [
    "def predict(test,X,Y,k=5,distance='euclidean',q=4):\n",
    "    \"\"\"\n",
    "        test: sample to test\n",
    "        X : train data to find neighbors\n",
    "        Y : target values\n",
    "        k : number of neighbors to consider\n",
    "        distance : choice of distance metric ( 'euclidean', 'manhatten', 'minkowski' ) \n",
    "        q : used for minkowski distance metric only\n",
    "    \"\"\"\n",
    "    func = None\n",
    "    if distance=='euclidean': func= euclidean\n",
    "    elif distance=='manhatten': func=manhatten\n",
    "    elif distance=='minkowski': func=lambda x,y: minkowski(x,y,q)\n",
    "    else: print(\"Wrong Distance metric!!\"); return None\n",
    "    \n",
    "    assert test.shape == (1,X.shape[1])\n",
    "    y = func(X,test)\n",
    "    ind = y.argsort()[:k]\n",
    "    return np.mean(Y[ind])"
   ]
  },
  {
   "cell_type": "code",
   "execution_count": 26,
   "metadata": {},
   "outputs": [
    {
     "name": "stdout",
     "output_type": "stream",
     "text": [
      "MAE: 3.5940, MSE: 20.7664\n"
     ]
    }
   ],
   "source": [
    "predictions = []\n",
    "for sample in X_test:\n",
    "    sample = np.expand_dims(sample,axis=0) \n",
    "    predictions.append(predict(sample,X_train,Y_train,k=5,distance='euclidean'))\n",
    "mae = np.mean(np.abs(predictions-Y_test))\n",
    "mse = np.mean( np.square(predictions-Y_test) )\n",
    "print(f\"MAE: {mae:.4f}, MSE: {mse:.4f}\")"
   ]
  },
  {
   "cell_type": "code",
   "execution_count": 27,
   "metadata": {},
   "outputs": [
    {
     "name": "stdout",
     "output_type": "stream",
     "text": [
      "MAE: 3.6260, MSE: 21.4016\n"
     ]
    }
   ],
   "source": [
    "predictions = []\n",
    "for sample in X_test:\n",
    "    sample = np.expand_dims(sample,axis=0) \n",
    "    predictions.append(predict(sample,X_train,Y_train,k=5,distance='manhatten'))\n",
    "mae = np.mean(np.abs(predictions-Y_test))\n",
    "mse = np.mean( np.square(predictions-Y_test) )\n",
    "print(f\"MAE: {mae:.4f}, MSE: {mse:.4f}\")"
   ]
  },
  {
   "cell_type": "code",
   "execution_count": 34,
   "metadata": {},
   "outputs": [
    {
     "name": "stdout",
     "output_type": "stream",
     "text": [
      "MAE: 3.5720, MSE: 20.4960\n"
     ]
    }
   ],
   "source": [
    "predictions = []\n",
    "for sample in X_test:\n",
    "    sample = np.expand_dims(sample,axis=0) \n",
    "    predictions.append(predict(sample,X_train,Y_train,k=5,distance='minkowski',q=3))\n",
    "mae = np.mean(np.abs(predictions-Y_test))\n",
    "mse = np.mean( np.square(predictions-Y_test) )\n",
    "print(f\"MAE: {mae:.4f}, MSE: {mse:.4f}\")"
   ]
  },
  {
   "cell_type": "code",
   "execution_count": null,
   "metadata": {
    "collapsed": true
   },
   "outputs": [],
   "source": []
  }
 ],
 "metadata": {
  "kernelspec": {
   "display_name": "Python 3",
   "language": "python",
   "name": "python3"
  },
  "language_info": {
   "codemirror_mode": {
    "name": "ipython",
    "version": 3
   },
   "file_extension": ".py",
   "mimetype": "text/x-python",
   "name": "python",
   "nbconvert_exporter": "python",
   "pygments_lexer": "ipython3",
   "version": "3.6.3"
  }
 },
 "nbformat": 4,
 "nbformat_minor": 2
}
